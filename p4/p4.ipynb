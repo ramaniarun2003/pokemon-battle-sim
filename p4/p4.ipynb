{
 "cells": [
  {
   "cell_type": "markdown",
   "id": "a9edb3b6",
   "metadata": {
    "deletable": false,
    "editable": false,
    "slideshow": {
     "slide_type": ""
    },
    "tags": []
   },
   "source": [
    "# Assignment 4: Pokemon"
   ]
  },
  {
   "cell_type": "markdown",
   "id": "56d47a23",
   "metadata": {
    "deletable": false,
    "editable": false,
    "slideshow": {
     "slide_type": ""
    },
    "tags": []
   },
   "source": [
    "## Your Information"
   ]
  },
  {
   "cell_type": "markdown",
   "id": "30fa52f6",
   "metadata": {
    "deletable": false,
    "editable": false,
    "slideshow": {
     "slide_type": ""
    },
    "tags": []
   },
   "source": [
    "At the start of each assignment, you will need to provide us your name and the name of the partner you worked with for this assignment (if you had one). Double click on the cell below or click once and hit enter to edit it. Replace \"First Last\" with your first name and last name. Replace \"None\" with the first and last name of your partner if you had one for this assignment. We ask for this information so we don't accuse you of cheating when your code looks like your partner's.\n",
    "\n",
    "Please keep these lines commented so they don't cause an error."
   ]
  },
  {
   "cell_type": "code",
   "execution_count": 1,
   "id": "5c2a36f0-b4b4-4c30-af9d-3e8cf6bb768c",
   "metadata": {
    "deletable": false,
    "editable": true,
    "slideshow": {
     "slide_type": ""
    },
    "tags": []
   },
   "outputs": [],
   "source": [
    "# MY NAME: Ramani Arunachalam\n",
    "# MY PARTNER's NAME: Isha Puri"
   ]
  },
  {
   "cell_type": "markdown",
   "id": "f42a0d00",
   "metadata": {
    "deletable": false,
    "editable": false,
    "slideshow": {
     "slide_type": ""
    },
    "tags": []
   },
   "source": [
    "## Learning Objectives"
   ]
  },
  {
   "cell_type": "markdown",
   "id": "ad6f439c",
   "metadata": {
    "deletable": false,
    "editable": false,
    "slideshow": {
     "slide_type": ""
    },
    "tags": []
   },
   "source": [
    "In this assignment, you will...\n",
    "\n",
    "* learn about and use an 'API' (Application Programming Interface)\n",
    "* build 'helper' functions that can be used to create more advanced functions\n",
    "* write conditions using if/elif/else statements\n",
    "* write advanced conditions using nested if/else statements\n",
    "* write advanced conditions using logical operators (or/and)\n",
    "* write functions using parameters, return values, and conditional logic"
   ]
  },
  {
   "cell_type": "markdown",
   "id": "7307e75c",
   "metadata": {
    "deletable": false,
    "editable": false,
    "slideshow": {
     "slide_type": ""
    },
    "tags": []
   },
   "source": [
    "## Imports"
   ]
  },
  {
   "cell_type": "markdown",
   "id": "43587b24",
   "metadata": {
    "deletable": false,
    "editable": false,
    "slideshow": {
     "slide_type": ""
    },
    "tags": []
   },
   "source": [
    "Every project will begin with some import statements. It's crucial that you run the cell below, otherwise we will not be able to grade your code and provide feedback to you. "
   ]
  },
  {
   "cell_type": "code",
   "execution_count": 1,
   "id": "44b54088",
   "metadata": {
    "deletable": false,
    "editable": true,
    "slideshow": {
     "slide_type": ""
    },
    "tags": []
   },
   "outputs": [],
   "source": [
    "import math\n",
    "import os\n",
    "import project\n",
    "import student_grader\n",
    "student_grader.initialize(os.getcwd(), \"p4\")"
   ]
  },
  {
   "cell_type": "markdown",
   "id": "e75056d3",
   "metadata": {
    "deletable": false,
    "editable": false,
    "slideshow": {
     "slide_type": ""
    },
    "tags": []
   },
   "source": [
    "## Lab portion (18 questions, 4 functions)"
   ]
  },
  {
   "cell_type": "markdown",
   "id": "cf59786f",
   "metadata": {
    "deletable": false,
    "editable": false,
    "slideshow": {
     "slide_type": ""
    },
    "tags": []
   },
   "source": [
    "### Segment 1: Learning the API"
   ]
  },
  {
   "cell_type": "markdown",
   "id": "5d565f84",
   "metadata": {
    "deletable": false,
    "editable": false,
    "slideshow": {
     "slide_type": ""
    },
    "tags": []
   },
   "source": [
    "#### Examine the `pokemon_attributes.csv` file"
   ]
  },
  {
   "cell_type": "markdown",
   "id": "ad452e64",
   "metadata": {
    "deletable": false,
    "editable": false,
    "slideshow": {
     "slide_type": ""
    },
    "tags": []
   },
   "source": [
    "Open `pokemon_attributes.csv` with Microsoft Excel, Google Sheets, or any other spreadsheet software, and take a look at it. The first and second rows should look like this:\n",
    "\n",
    "```\n",
    "Name,Attack,Defense,HP,Region,Sp. Atk,Sp. Def,Speed,Type 1,Type 2\n",
    "Bulbasaur,49,49,45,Kanto,65,65,45,Grass,Poison\n",
    "```"
   ]
  },
  {
   "cell_type": "markdown",
   "id": "73426a8b",
   "metadata": {
    "deletable": false,
    "editable": false,
    "slideshow": {
     "slide_type": ""
    },
    "tags": []
   },
   "source": [
    "Each Pokémon comes from a certain `Region` and has one or two Type(s). A Pokémon with only one Type has `'DNE'` (i.e., **D**oes **N**ot **E**xist) as its value for `Type 2`. Each Pokémon has six other statistics, namely:\n",
    "\n",
    "1. `Attack` (short for Physical Attack)\n",
    "2. `Defense` (short for Physical Defense)\n",
    "3. `HP` (short for Hit Points)\n",
    "4. `Sp. Atk` (short for Special Attack)\n",
    "5. `Sp. Def` (short for Special Defense)\n",
    "6. `Speed` (which is self-explanatory)"
   ]
  },
  {
   "cell_type": "markdown",
   "id": "8138ea2c",
   "metadata": {
    "deletable": false,
    "editable": false,
    "slideshow": {
     "slide_type": ""
    },
    "tags": []
   },
   "source": [
    "#### Examine the `type_effectiveness.csv` file"
   ]
  },
  {
   "cell_type": "markdown",
   "id": "9fe21b16",
   "metadata": {
    "deletable": false,
    "editable": false,
    "slideshow": {
     "slide_type": ""
    },
    "tags": []
   },
   "source": [
    "Next, open `type_effectiveness.csv` with Microsoft Excel, Google Sheets, or any other Spreadsheet software, and take a look at it. You will see a table of Pokémon types representing the effectiveness of one type against another. The rows represent the type of the defender, and the columns represent the type of attacker. The first two rows of the file should look like this:\n",
    "\n",
    "```\n",
    ",Normal,Fire,Water,Electric,Grass,Ice,Fighting,Poison,Ground,Flying,Psychic,Bug,Rock,Ghost,Dragon,Dark,Steel,Fairy\n",
    "Normal,1.0,1.0,1.0,1.0,1.0,1.0,2.0,1.0,1.0,1.0,1.0,1.0,1.0,0.0,1.0,1.0,1.0,1.0\n",
    "```"
   ]
  },
  {
   "cell_type": "markdown",
   "id": "15f5a410",
   "metadata": {
    "deletable": false,
    "editable": false,
    "slideshow": {
     "slide_type": ""
    },
    "tags": []
   },
   "source": [
    "All Pokémon and their moves are assigned certain types. Each type has several strengths and weaknesses against other Pokémon. In battle, you should use Pokémon and moves that have a type advantage over their opponent; doing so will cause much more damage than otherwise. There are 18 types in this table. Taking the second row (Fire) and the third column (Water) as an example, we see that Water type attack has an effectiveness of `2.0` against Fire type defense."
   ]
  },
  {
   "cell_type": "markdown",
   "id": "98d54b5a",
   "metadata": {
    "deletable": false,
    "editable": false,
    "slideshow": {
     "slide_type": ""
    },
    "tags": []
   },
   "source": [
    "### Segment 2: Explore the API"
   ]
  },
  {
   "cell_type": "markdown",
   "id": "ccebfa77",
   "metadata": {
    "deletable": false,
    "editable": false,
    "slideshow": {
     "slide_type": ""
    },
    "tags": []
   },
   "source": [
    "`project.py` is designed to give you access to the data in `pokemon_attributes.csv` and `type_effectiveness.csv`. \n",
    "\n",
    "Use the inspection process we learned in lab-p3 to learn more details of the `project` API. In lab-p3, we saw how to use `dir`, and `help` to learn the API."
   ]
  },
  {
   "cell_type": "code",
   "execution_count": 3,
   "id": "c52aaaf5",
   "metadata": {
    "deletable": false,
    "editable": true,
    "slideshow": {
     "slide_type": ""
    },
    "tags": []
   },
   "outputs": [
    {
     "data": {
      "text/plain": [
       "['_ATTRIBUTES_CSV_FILE_NAME',\n",
       " '_CSV_NOT_FOUND_MSG_FORMAT',\n",
       " '_EFFECTIVENESS_CSV_FILE_NAME',\n",
       " '__annotations__',\n",
       " '__builtins__',\n",
       " '__cached__',\n",
       " '__doc__',\n",
       " '__file__',\n",
       " '__loader__',\n",
       " '__name__',\n",
       " '__package__',\n",
       " '__spec__',\n",
       " '_effectiveness',\n",
       " '_integer_attributes',\n",
       " '_pokemon',\n",
       " 'attacking_type',\n",
       " 'attacking_types',\n",
       " 'attribute_row',\n",
       " 'attributes_header',\n",
       " 'attributes_headers',\n",
       " 'attributes_rows',\n",
       " 'csv',\n",
       " 'defending_effectiveness_row',\n",
       " 'defending_effectiveness_rows',\n",
       " 'defending_type',\n",
       " 'effectiveness',\n",
       " 'f',\n",
       " 'functools',\n",
       " 'get_attack',\n",
       " 'get_defense',\n",
       " 'get_hp',\n",
       " 'get_region',\n",
       " 'get_special_attack',\n",
       " 'get_special_defense',\n",
       " 'get_speed',\n",
       " 'get_type1',\n",
       " 'get_type2',\n",
       " 'get_type_effectiveness',\n",
       " 'handle_key_error',\n",
       " 'i',\n",
       " 'os',\n",
       " 'pkmn',\n",
       " 'print_attributes',\n",
       " 'raw_pkmn_data',\n",
       " 'raw_type_data']"
      ]
     },
     "execution_count": 3,
     "metadata": {},
     "output_type": "execute_result"
    }
   ],
   "source": [
    "# use the 'dir' function to learn more about the project API.\n",
    "# The dir function is a builtin function in python.\n",
    "# It shows all of the attributes of an object.\n",
    "\n",
    "dir(project)"
   ]
  },
  {
   "cell_type": "code",
   "execution_count": 7,
   "id": "76fdbc4a",
   "metadata": {
    "deletable": false,
    "editable": true,
    "slideshow": {
     "slide_type": ""
    },
    "tags": []
   },
   "outputs": [
    {
     "name": "stdout",
     "output_type": "stream",
     "text": [
      "Help on function get_attack in module project:\n",
      "\n",
      "get_attack(pkmn_name: str) -> int\n",
      "    The Pokemon's attack stat, affects how much physical damage a Pokemon can do\n",
      "\n"
     ]
    }
   ],
   "source": [
    "# The help function is a builtin function in python.\n",
    "# It shows all of the attributes of an object.\n",
    "# You can use it to print out info about any of the \n",
    "# methods in the project module like this:\n",
    "\n",
    "help(project.get_attack)"
   ]
  },
  {
   "cell_type": "markdown",
   "id": "e891cb62",
   "metadata": {
    "deletable": false,
    "editable": false,
    "slideshow": {
     "slide_type": ""
    },
    "tags": []
   },
   "source": [
    "After using the `help` function on the project module, you probably noticed there are many variables that begin with an underscore (`_`). In Python, variables that start with an underscore are typically considered private, which means they are only for use by the object that defines them. Public variables, on the other hand, typically do not start with underscores, and they are meant to be accessible by code outside of the object that defines them. Use the help function whenever you want to learn about a public method of the project module."
   ]
  },
  {
   "cell_type": "code",
   "execution_count": 9,
   "id": "d8b18b62",
   "metadata": {
    "deletable": false,
    "editable": true,
    "slideshow": {
     "slide_type": ""
    },
    "tags": []
   },
   "outputs": [
    {
     "name": "stdout",
     "output_type": "stream",
     "text": [
      "Help on function print_attributes in module project:\n",
      "\n",
      "print_attributes(pkmn_name: str) -> None\n",
      "    Prints all the attributes for a Pokemon\n",
      "\n"
     ]
    }
   ],
   "source": [
    "# Use the help function to read the documentation for\n",
    "# the project.print_attributes function.\n",
    "# Add your code below:\n",
    "\n",
    "help(project.print_attributes)"
   ]
  },
  {
   "cell_type": "markdown",
   "id": "a17d48c3",
   "metadata": {
    "deletable": false,
    "editable": false,
    "slideshow": {
     "slide_type": ""
    },
    "tags": []
   },
   "source": [
    "Now that we've read the documentation for the `project.print_attributes` function, we're ready to call it."
   ]
  },
  {
   "cell_type": "code",
   "execution_count": 11,
   "id": "46477d13",
   "metadata": {
    "deletable": false,
    "editable": true,
    "slideshow": {
     "slide_type": ""
    },
    "tags": []
   },
   "outputs": [
    {
     "name": "stdout",
     "output_type": "stream",
     "text": [
      "Name :  Pikachu\n",
      "Attack :  55\n",
      "Defense :  40\n",
      "HP :  35\n",
      "Region :  Kanto\n",
      "Sp. Atk :  50\n",
      "Sp. Def :  50\n",
      "Speed :  90\n",
      "Type 1 :  Electric\n",
      "Type 2 :  DNE\n"
     ]
    }
   ],
   "source": [
    "# Try out the print_attributes function with Pokemon of different names\n",
    "# starting with \"Pikachu\":\n",
    "\n",
    "project.print_attributes(\"Pikachu\") "
   ]
  },
  {
   "cell_type": "markdown",
   "id": "ad9f59eb",
   "metadata": {
    "deletable": false,
    "editable": false,
    "slideshow": {
     "slide_type": ""
    },
    "tags": []
   },
   "source": [
    "Similarly, try to figure out what each of the ten other functions in `project.py` do, by inspecting reading their documentation and then attempting to call them using the Pokemon `\"Pikachu\"`. You can experiment with the other functions in the empty cell below."
   ]
  },
  {
   "cell_type": "code",
   "execution_count": 15,
   "id": "373a085f",
   "metadata": {
    "deletable": false,
    "editable": true,
    "slideshow": {
     "slide_type": ""
    },
    "tags": []
   },
   "outputs": [
    {
     "data": {
      "text/plain": [
       "50"
      ]
     },
     "execution_count": 15,
     "metadata": {},
     "output_type": "execute_result"
    }
   ],
   "source": [
    "# Experiment with the project functions here\n",
    "\n",
    "project.get_special_attack(\"Pikachu\")"
   ]
  },
  {
   "cell_type": "markdown",
   "id": "3b0b09b6",
   "metadata": {
    "deletable": false,
    "editable": false,
    "slideshow": {
     "slide_type": ""
    },
    "tags": []
   },
   "source": [
    "When you feel comfortable, proceed with the rest of the lab. If any of these instructions are unclear, or if you are unsure about what these functions do, feel  free to reach out to your TA/PM."
   ]
  },
  {
   "cell_type": "markdown",
   "id": "aace8186",
   "metadata": {
    "deletable": false,
    "editable": false,
    "slideshow": {
     "slide_type": ""
    },
    "tags": []
   },
   "source": [
    "### Segment 3: Getting familiar with `project.py`"
   ]
  },
  {
   "cell_type": "markdown",
   "id": "60c479ab",
   "metadata": {
    "deletable": false,
    "editable": false,
    "slideshow": {
     "slide_type": ""
    },
    "tags": []
   },
   "source": [
    "You will now demonstrate your familiarity with the functions inside `project.py` by answering some questions. If you do not know which function to call, remember that you can always use the `dir` function to list out the members of the `project` modules and the `help` function to read their documentation."
   ]
  },
  {
   "cell_type": "markdown",
   "id": "153c7b8f",
   "metadata": {
    "deletable": false,
    "editable": false,
    "slideshow": {
     "slide_type": ""
    },
    "tags": []
   },
   "source": [
    "#### Lab question 1"
   ]
  },
  {
   "cell_type": "markdown",
   "id": "4954d497",
   "metadata": {
    "deletable": false,
    "editable": false,
    "slideshow": {
     "slide_type": ""
    },
    "tags": []
   },
   "source": [
    "What `region` is `Quaxly` from?"
   ]
  },
  {
   "cell_type": "markdown",
   "id": "896143b8",
   "metadata": {
    "deletable": false,
    "editable": false,
    "slideshow": {
     "slide_type": ""
    },
    "tags": []
   },
   "source": [
    "Points possible: 4.0"
   ]
  },
  {
   "cell_type": "code",
   "execution_count": 23,
   "id": "ff2810e9",
   "metadata": {
    "deletable": false,
    "editable": true,
    "slideshow": {
     "slide_type": ""
    },
    "tags": []
   },
   "outputs": [
    {
     "data": {
      "text/plain": [
       "'Paldea'"
      ]
     },
     "execution_count": 23,
     "metadata": {},
     "output_type": "execute_result"
    }
   ],
   "source": [
    "# replace the None with your code\n",
    "\n",
    "quaxly_region = project.get_region(\"Quaxly\")\n",
    "quaxly_region"
   ]
  },
  {
   "cell_type": "code",
   "execution_count": 25,
   "id": "ca24a006",
   "metadata": {
    "deletable": false,
    "editable": false,
    "slideshow": {
     "slide_type": ""
    },
    "tags": []
   },
   "outputs": [
    {
     "name": "stdout",
     "output_type": "stream",
     "text": [
      "Make sure you saved the notebook before running this cell. Running check for lab-q1...\n",
      "Great job! You passed all test cases for this question.\n"
     ]
    }
   ],
   "source": [
    "student_grader.check(\"lab-q1\")"
   ]
  },
  {
   "cell_type": "markdown",
   "id": "bb58edd8",
   "metadata": {
    "deletable": false,
    "editable": false,
    "slideshow": {
     "slide_type": ""
    },
    "tags": []
   },
   "source": [
    "#### Lab question 2"
   ]
  },
  {
   "cell_type": "markdown",
   "id": "94a8ec5e",
   "metadata": {
    "deletable": false,
    "editable": false,
    "slideshow": {
     "slide_type": ""
    },
    "tags": []
   },
   "source": [
    "What is the first type (`type1`) of `Scorbunny`?"
   ]
  },
  {
   "cell_type": "markdown",
   "id": "d61c73b6",
   "metadata": {
    "deletable": false,
    "editable": false,
    "slideshow": {
     "slide_type": ""
    },
    "tags": []
   },
   "source": [
    "Points possible: 4.0"
   ]
  },
  {
   "cell_type": "code",
   "execution_count": 31,
   "id": "b867b98a",
   "metadata": {
    "deletable": false,
    "editable": true,
    "slideshow": {
     "slide_type": ""
    },
    "tags": []
   },
   "outputs": [
    {
     "data": {
      "text/plain": [
       "'Fire'"
      ]
     },
     "execution_count": 31,
     "metadata": {},
     "output_type": "execute_result"
    }
   ],
   "source": [
    "# replace the None with your code\n",
    "scorbunny_type1 = project.get_type1(\"Scorbunny\")\n",
    "scorbunny_type1"
   ]
  },
  {
   "cell_type": "code",
   "execution_count": 33,
   "id": "3fe5c318",
   "metadata": {
    "deletable": false,
    "editable": false,
    "slideshow": {
     "slide_type": ""
    },
    "tags": []
   },
   "outputs": [
    {
     "name": "stdout",
     "output_type": "stream",
     "text": [
      "Make sure you saved the notebook before running this cell. Running check for lab-q2...\n",
      "Great job! You passed all test cases for this question.\n"
     ]
    }
   ],
   "source": [
    "student_grader.check(\"lab-q2\")"
   ]
  },
  {
   "cell_type": "markdown",
   "id": "7166f112",
   "metadata": {
    "deletable": false,
    "editable": false,
    "slideshow": {
     "slide_type": ""
    },
    "tags": []
   },
   "source": [
    "#### Lab question 3"
   ]
  },
  {
   "cell_type": "markdown",
   "id": "0769497a",
   "metadata": {
    "deletable": false,
    "editable": false,
    "slideshow": {
     "slide_type": ""
    },
    "tags": []
   },
   "source": [
    "What is the second type (`type2`) of `Koraidon`?"
   ]
  },
  {
   "cell_type": "markdown",
   "id": "cfe28f11",
   "metadata": {
    "deletable": false,
    "editable": false,
    "slideshow": {
     "slide_type": ""
    },
    "tags": []
   },
   "source": [
    "Points possible: 4.0"
   ]
  },
  {
   "cell_type": "code",
   "execution_count": 47,
   "id": "55f095f9",
   "metadata": {
    "deletable": false,
    "editable": true,
    "slideshow": {
     "slide_type": ""
    },
    "tags": []
   },
   "outputs": [
    {
     "data": {
      "text/plain": [
       "'Dragon'"
      ]
     },
     "execution_count": 47,
     "metadata": {},
     "output_type": "execute_result"
    }
   ],
   "source": [
    "# replace the None with your code\n",
    "koraidon_type2 = project.get_type2(\"Koraidon\")\n",
    "koraidon_type2"
   ]
  },
  {
   "cell_type": "code",
   "execution_count": 49,
   "id": "73efa44f",
   "metadata": {
    "deletable": false,
    "editable": false,
    "slideshow": {
     "slide_type": ""
    },
    "tags": []
   },
   "outputs": [
    {
     "name": "stdout",
     "output_type": "stream",
     "text": [
      "Make sure you saved the notebook before running this cell. Running check for lab-q3...\n",
      "Great job! You passed all test cases for this question.\n"
     ]
    }
   ],
   "source": [
    "student_grader.check(\"lab-q3\")"
   ]
  },
  {
   "cell_type": "markdown",
   "id": "24ce347d",
   "metadata": {
    "deletable": false,
    "editable": false,
    "slideshow": {
     "slide_type": ""
    },
    "tags": []
   },
   "source": [
    "#### Lab question 4"
   ]
  },
  {
   "cell_type": "markdown",
   "id": "2393cf5f",
   "metadata": {
    "deletable": false,
    "editable": false,
    "slideshow": {
     "slide_type": ""
    },
    "tags": []
   },
   "source": [
    "What is `Mewtwo`'s `HP` stat?"
   ]
  },
  {
   "cell_type": "markdown",
   "id": "a493bebb",
   "metadata": {
    "deletable": false,
    "editable": false,
    "slideshow": {
     "slide_type": ""
    },
    "tags": []
   },
   "source": [
    "Points possible: 4.0"
   ]
  },
  {
   "cell_type": "code",
   "execution_count": 56,
   "id": "e5ae616f",
   "metadata": {
    "deletable": false,
    "editable": true,
    "slideshow": {
     "slide_type": ""
    },
    "tags": []
   },
   "outputs": [
    {
     "data": {
      "text/plain": [
       "106"
      ]
     },
     "execution_count": 56,
     "metadata": {},
     "output_type": "execute_result"
    }
   ],
   "source": [
    "# replace the None with your code\n",
    "mewtwo_hp = project.get_hp(\"Mewtwo\")\n",
    "mewtwo_hp"
   ]
  },
  {
   "cell_type": "code",
   "execution_count": 58,
   "id": "a5b90ba2",
   "metadata": {
    "deletable": false,
    "editable": false,
    "slideshow": {
     "slide_type": ""
    },
    "tags": []
   },
   "outputs": [
    {
     "name": "stdout",
     "output_type": "stream",
     "text": [
      "Make sure you saved the notebook before running this cell. Running check for lab-q4...\n",
      "Great job! You passed all test cases for this question.\n"
     ]
    }
   ],
   "source": [
    "student_grader.check(\"lab-q4\")"
   ]
  },
  {
   "cell_type": "markdown",
   "id": "efeff08f",
   "metadata": {
    "deletable": false,
    "editable": false,
    "slideshow": {
     "slide_type": ""
    },
    "tags": []
   },
   "source": [
    "#### Lab question 5"
   ]
  },
  {
   "cell_type": "markdown",
   "id": "a04b2a12",
   "metadata": {
    "deletable": false,
    "editable": false,
    "slideshow": {
     "slide_type": ""
    },
    "tags": []
   },
   "source": [
    "What is `Rayquaza`'s `Attack` stat?"
   ]
  },
  {
   "cell_type": "markdown",
   "id": "e383b829",
   "metadata": {
    "deletable": false,
    "editable": false,
    "slideshow": {
     "slide_type": ""
    },
    "tags": []
   },
   "source": [
    "Points possible: 4.0"
   ]
  },
  {
   "cell_type": "code",
   "execution_count": 64,
   "id": "192816bd",
   "metadata": {
    "deletable": false,
    "editable": true,
    "slideshow": {
     "slide_type": ""
    },
    "tags": []
   },
   "outputs": [
    {
     "data": {
      "text/plain": [
       "150"
      ]
     },
     "execution_count": 64,
     "metadata": {},
     "output_type": "execute_result"
    }
   ],
   "source": [
    "# replace the None with your code\n",
    "rayquaza_attack = project.get_attack(\"Rayquaza\")\n",
    "rayquaza_attack"
   ]
  },
  {
   "cell_type": "code",
   "execution_count": 66,
   "id": "a10054e4",
   "metadata": {
    "deletable": false,
    "editable": false,
    "slideshow": {
     "slide_type": ""
    },
    "tags": []
   },
   "outputs": [
    {
     "name": "stdout",
     "output_type": "stream",
     "text": [
      "Make sure you saved the notebook before running this cell. Running check for lab-q5...\n",
      "Great job! You passed all test cases for this question.\n"
     ]
    }
   ],
   "source": [
    "student_grader.check(\"lab-q5\")"
   ]
  },
  {
   "cell_type": "markdown",
   "id": "cb537bf7",
   "metadata": {
    "deletable": false,
    "editable": false,
    "slideshow": {
     "slide_type": ""
    },
    "tags": []
   },
   "source": [
    "#### Lab question 6"
   ]
  },
  {
   "cell_type": "markdown",
   "id": "7f39c74f",
   "metadata": {
    "deletable": false,
    "editable": false,
    "slideshow": {
     "slide_type": ""
    },
    "tags": []
   },
   "source": [
    "What is `Registeel`'s `Defense` stat?"
   ]
  },
  {
   "cell_type": "markdown",
   "id": "4d1c1f4a",
   "metadata": {
    "deletable": false,
    "editable": false,
    "slideshow": {
     "slide_type": ""
    },
    "tags": []
   },
   "source": [
    "Points possible: 4.0"
   ]
  },
  {
   "cell_type": "code",
   "execution_count": 68,
   "id": "7857d183",
   "metadata": {
    "deletable": false,
    "editable": true,
    "slideshow": {
     "slide_type": ""
    },
    "tags": []
   },
   "outputs": [
    {
     "data": {
      "text/plain": [
       "150"
      ]
     },
     "execution_count": 68,
     "metadata": {},
     "output_type": "execute_result"
    }
   ],
   "source": [
    "# replace the None with your code\n",
    "registeel_defense = project.get_defense(\"Registeel\")\n",
    "registeel_defense"
   ]
  },
  {
   "cell_type": "code",
   "execution_count": 70,
   "id": "c79733af",
   "metadata": {
    "deletable": false,
    "editable": false,
    "slideshow": {
     "slide_type": ""
    },
    "tags": []
   },
   "outputs": [
    {
     "name": "stdout",
     "output_type": "stream",
     "text": [
      "Make sure you saved the notebook before running this cell. Running check for lab-q6...\n",
      "Great job! You passed all test cases for this question.\n"
     ]
    }
   ],
   "source": [
    "student_grader.check(\"lab-q6\")"
   ]
  },
  {
   "cell_type": "markdown",
   "id": "7fa938da",
   "metadata": {
    "deletable": false,
    "editable": false,
    "slideshow": {
     "slide_type": ""
    },
    "tags": []
   },
   "source": [
    "#### Lab question 7"
   ]
  },
  {
   "cell_type": "markdown",
   "id": "2da4c3a5",
   "metadata": {
    "deletable": false,
    "editable": false,
    "slideshow": {
     "slide_type": ""
    },
    "tags": []
   },
   "source": [
    "What is `Mudkip`'s `Special Attack` stat?"
   ]
  },
  {
   "cell_type": "markdown",
   "id": "0e255e22",
   "metadata": {
    "deletable": false,
    "editable": false,
    "slideshow": {
     "slide_type": ""
    },
    "tags": []
   },
   "source": [
    "Points possible: 4.0"
   ]
  },
  {
   "cell_type": "code",
   "execution_count": 76,
   "id": "7e40345c",
   "metadata": {
    "deletable": false,
    "editable": true,
    "slideshow": {
     "slide_type": ""
    },
    "tags": []
   },
   "outputs": [
    {
     "data": {
      "text/plain": [
       "50"
      ]
     },
     "execution_count": 76,
     "metadata": {},
     "output_type": "execute_result"
    }
   ],
   "source": [
    "# replace the None with your code\n",
    "mudkip_sp_atk = project.get_special_attack(\"Mudkip\")\n",
    "mudkip_sp_atk"
   ]
  },
  {
   "cell_type": "code",
   "execution_count": 78,
   "id": "c818282c",
   "metadata": {
    "deletable": false,
    "editable": false,
    "slideshow": {
     "slide_type": ""
    },
    "tags": []
   },
   "outputs": [
    {
     "name": "stdout",
     "output_type": "stream",
     "text": [
      "Make sure you saved the notebook before running this cell. Running check for lab-q7...\n",
      "Great job! You passed all test cases for this question.\n"
     ]
    }
   ],
   "source": [
    "student_grader.check(\"lab-q7\")"
   ]
  },
  {
   "cell_type": "markdown",
   "id": "a876c3be",
   "metadata": {
    "deletable": false,
    "editable": false,
    "slideshow": {
     "slide_type": ""
    },
    "tags": []
   },
   "source": [
    "#### Lab question 8"
   ]
  },
  {
   "cell_type": "markdown",
   "id": "8155614c",
   "metadata": {
    "deletable": false,
    "editable": false,
    "slideshow": {
     "slide_type": ""
    },
    "tags": []
   },
   "source": [
    "What is `Kyogre`'s `Special Defense` stat?"
   ]
  },
  {
   "cell_type": "markdown",
   "id": "ffc6658b",
   "metadata": {
    "deletable": false,
    "editable": false,
    "slideshow": {
     "slide_type": ""
    },
    "tags": []
   },
   "source": [
    "Points possible: 4.0"
   ]
  },
  {
   "cell_type": "code",
   "execution_count": 80,
   "id": "7d9775df",
   "metadata": {
    "deletable": false,
    "editable": true,
    "slideshow": {
     "slide_type": ""
    },
    "tags": []
   },
   "outputs": [
    {
     "data": {
      "text/plain": [
       "140"
      ]
     },
     "execution_count": 80,
     "metadata": {},
     "output_type": "execute_result"
    }
   ],
   "source": [
    "# replace the None with your code\n",
    "kyogre_sp_def = project.get_special_defense(\"Kyogre\")\n",
    "kyogre_sp_def"
   ]
  },
  {
   "cell_type": "code",
   "execution_count": 82,
   "id": "b147d1c0",
   "metadata": {
    "deletable": false,
    "editable": false,
    "slideshow": {
     "slide_type": ""
    },
    "tags": []
   },
   "outputs": [
    {
     "name": "stdout",
     "output_type": "stream",
     "text": [
      "Make sure you saved the notebook before running this cell. Running check for lab-q8...\n",
      "Great job! You passed all test cases for this question.\n"
     ]
    }
   ],
   "source": [
    "student_grader.check(\"lab-q8\")"
   ]
  },
  {
   "cell_type": "markdown",
   "id": "a7deb059",
   "metadata": {
    "deletable": false,
    "editable": false,
    "slideshow": {
     "slide_type": ""
    },
    "tags": []
   },
   "source": [
    "#### Lab question 9"
   ]
  },
  {
   "cell_type": "markdown",
   "id": "bf54b4a6",
   "metadata": {
    "deletable": false,
    "editable": false,
    "slideshow": {
     "slide_type": ""
    },
    "tags": []
   },
   "source": [
    "What is `Slowpoke`'s `Speed` stat?"
   ]
  },
  {
   "cell_type": "markdown",
   "id": "b5994539",
   "metadata": {
    "deletable": false,
    "editable": false,
    "slideshow": {
     "slide_type": ""
    },
    "tags": []
   },
   "source": [
    "Points possible: 4.0"
   ]
  },
  {
   "cell_type": "code",
   "execution_count": 86,
   "id": "2643b454",
   "metadata": {
    "deletable": false,
    "editable": true,
    "slideshow": {
     "slide_type": ""
    },
    "tags": []
   },
   "outputs": [
    {
     "data": {
      "text/plain": [
       "15"
      ]
     },
     "execution_count": 86,
     "metadata": {},
     "output_type": "execute_result"
    }
   ],
   "source": [
    "# replace the None with your code\n",
    "slowpoke_speed = project.get_speed(\"Slowpoke\")\n",
    "slowpoke_speed"
   ]
  },
  {
   "cell_type": "code",
   "execution_count": 88,
   "id": "ed8a6a2a",
   "metadata": {
    "deletable": false,
    "editable": false,
    "slideshow": {
     "slide_type": ""
    },
    "tags": []
   },
   "outputs": [
    {
     "name": "stdout",
     "output_type": "stream",
     "text": [
      "Make sure you saved the notebook before running this cell. Running check for lab-q9...\n",
      "Great job! You passed all test cases for this question.\n"
     ]
    }
   ],
   "source": [
    "student_grader.check(\"lab-q9\")"
   ]
  },
  {
   "cell_type": "markdown",
   "id": "28b53670",
   "metadata": {
    "deletable": false,
    "editable": false,
    "slideshow": {
     "slide_type": ""
    },
    "tags": []
   },
   "source": [
    "#### Lab question 10"
   ]
  },
  {
   "cell_type": "markdown",
   "id": "22515ae9",
   "metadata": {
    "deletable": false,
    "editable": false,
    "slideshow": {
     "slide_type": ""
    },
    "tags": []
   },
   "source": [
    "What is the `type effectiveness` of a `Water` type attack **against** a `Rock` type opponent?"
   ]
  },
  {
   "cell_type": "markdown",
   "id": "602d8b5b",
   "metadata": {
    "deletable": false,
    "editable": false,
    "slideshow": {
     "slide_type": ""
    },
    "tags": []
   },
   "source": [
    "Points possible: 4.0"
   ]
  },
  {
   "cell_type": "code",
   "execution_count": 92,
   "id": "67a28d7d",
   "metadata": {
    "deletable": false,
    "editable": true,
    "slideshow": {
     "slide_type": ""
    },
    "tags": []
   },
   "outputs": [
    {
     "data": {
      "text/plain": [
       "2.0"
      ]
     },
     "execution_count": 92,
     "metadata": {},
     "output_type": "execute_result"
    }
   ],
   "source": [
    "# replace the None with your code\n",
    "water_rock_effectiveness = project.get_type_effectiveness(\"Water\",\"Rock\")\n",
    "water_rock_effectiveness"
   ]
  },
  {
   "cell_type": "code",
   "execution_count": 94,
   "id": "5e398bf9",
   "metadata": {
    "deletable": false,
    "editable": false,
    "slideshow": {
     "slide_type": ""
    },
    "tags": []
   },
   "outputs": [
    {
     "name": "stdout",
     "output_type": "stream",
     "text": [
      "Make sure you saved the notebook before running this cell. Running check for lab-q10...\n",
      "Great job! You passed all test cases for this question.\n"
     ]
    }
   ],
   "source": [
    "student_grader.check(\"lab-q10\")"
   ]
  },
  {
   "cell_type": "markdown",
   "id": "93abd7be",
   "metadata": {
    "deletable": false,
    "editable": false,
    "slideshow": {
     "slide_type": ""
    },
    "tags": []
   },
   "source": [
    "### Segment 4: Conditional Statements"
   ]
  },
  {
   "cell_type": "markdown",
   "id": "db3854dd",
   "metadata": {
    "deletable": false,
    "editable": false,
    "slideshow": {
     "slide_type": ""
    },
    "tags": []
   },
   "source": [
    "You will now use conditional statements to answer a few interesting questions about some Pokémon."
   ]
  },
  {
   "cell_type": "markdown",
   "id": "60bb9788",
   "metadata": {
    "deletable": false,
    "editable": false,
    "slideshow": {
     "slide_type": ""
    },
    "tags": []
   },
   "source": [
    "#### Exploring the `project.get_region` function"
   ]
  },
  {
   "cell_type": "markdown",
   "id": "16ec2f43",
   "metadata": {
    "deletable": false,
    "editable": false,
    "slideshow": {
     "slide_type": ""
    },
    "tags": []
   },
   "source": [
    "Run the code below. Then, follow the instructions below the code cell for more info on how you should experiment with the code below."
   ]
  },
  {
   "cell_type": "code",
   "execution_count": 96,
   "id": "5a66e992",
   "metadata": {
    "deletable": false,
    "editable": true,
    "slideshow": {
     "slide_type": ""
    },
    "tags": []
   },
   "outputs": [
    {
     "data": {
      "text/plain": [
       "'Pikachu is from the Kanto region'"
      ]
     },
     "execution_count": 96,
     "metadata": {},
     "output_type": "execute_result"
    }
   ],
   "source": [
    "check_region_pkmn = \"Pikachu\"\n",
    "\n",
    "# DO NOT EDIT CODE BELOW HERE\n",
    "if project.get_region(check_region_pkmn) == \"Kanto\":\n",
    "    is_from_kanto_msg = check_region_pkmn + ' is from the Kanto region'\n",
    "else:\n",
    "    is_from_kanto_msg = check_region_pkmn + ' is not from the Kanto region'\n",
    "\n",
    "is_from_kanto_msg"
   ]
  },
  {
   "cell_type": "markdown",
   "id": "2d894c7e",
   "metadata": {
    "deletable": false,
    "editable": false,
    "slideshow": {
     "slide_type": ""
    },
    "tags": []
   },
   "source": [
    "Before continuing, what happens if you change the name of the `check_region_pkmn` variable from `Pikachu` to `Greninja`? Does the output change? What happens if you use a bad name (such as `cs220`, which is not the name of any Pokémon)? Why do you think this happens? \n",
    "\n",
    "Once you are done considering this, change the value of `check_region_pkmn` back to `Pikachu`. Your assignment may be given a zero by the Gradescope autograder if it has any uncaught exceptions."
   ]
  },
  {
   "cell_type": "markdown",
   "id": "5069c160",
   "metadata": {
    "deletable": false,
    "editable": false,
    "slideshow": {
     "slide_type": ""
    },
    "tags": []
   },
   "source": [
    "#### Helper functions - `compare_hp`"
   ]
  },
  {
   "cell_type": "markdown",
   "id": "8afab493",
   "metadata": {
    "deletable": false,
    "editable": false,
    "slideshow": {
     "slide_type": ""
    },
    "tags": []
   },
   "source": [
    "Consider the function below. You will write similar code when you answer the next question."
   ]
  },
  {
   "cell_type": "code",
   "execution_count": 98,
   "id": "981df997",
   "metadata": {
    "deletable": false,
    "editable": true,
    "slideshow": {
     "slide_type": ""
    },
    "tags": []
   },
   "outputs": [
    {
     "name": "stdout",
     "output_type": "stream",
     "text": [
      "Snorlax has the larger HP stat\n"
     ]
    }
   ],
   "source": [
    "# run the following code and observe the output. Do not edit this code.\n",
    "if project.get_hp('Snorlax') >= project.get_hp('Heracross'):\n",
    "    print('Snorlax has the larger HP stat')\n",
    "else:\n",
    "    print('Heracross has the larget HP stat')"
   ]
  },
  {
   "cell_type": "markdown",
   "id": "8f49f8e5",
   "metadata": {
    "deletable": false,
    "editable": false,
    "slideshow": {
     "slide_type": ""
    },
    "tags": []
   },
   "source": [
    "In P4, you will regularly have to compare the stats of different Pokémon. \n",
    "So, let's create a **helper function** here. Helper functions are simple functions that are called by other functions that perform more complicated tasks."
   ]
  },
  {
   "cell_type": "markdown",
   "id": "be0f4d96",
   "metadata": {
    "deletable": false,
    "editable": false,
    "slideshow": {
     "slide_type": ""
    },
    "tags": []
   },
   "source": [
    "#### Lab function 1: `compare_hp`"
   ]
  },
  {
   "cell_type": "markdown",
   "id": "a1746578",
   "metadata": {
    "deletable": false,
    "editable": false,
    "slideshow": {
     "slide_type": ""
    },
    "tags": []
   },
   "source": [
    "The `compare_hp` function should return the name of the Pokemon with the higher HP stat. If both Pokemon have the same HP stat, the function should return the name of the first Pokemon (`pkmn1`) for simplicity."
   ]
  },
  {
   "cell_type": "markdown",
   "id": "30c9fe69",
   "metadata": {
    "deletable": false,
    "editable": false,
    "slideshow": {
     "slide_type": ""
    },
    "tags": []
   },
   "source": [
    "Points possible: 7.0"
   ]
  },
  {
   "cell_type": "code",
   "execution_count": 102,
   "id": "1119a269",
   "metadata": {
    "deletable": false,
    "editable": true,
    "slideshow": {
     "slide_type": ""
    },
    "tags": []
   },
   "outputs": [],
   "source": [
    "# Finish this function by replacing the '...' with your code\n",
    "\n",
    "def compare_hp(pkmn1, pkmn2): # DO NOT EDIT THIS LINE\n",
    "    if project.get_hp(pkmn1) >= project.get_hp(pkmn2):\n",
    "        return pkmn1\n",
    "    else:\n",
    "        return pkmn2"
   ]
  },
  {
   "cell_type": "code",
   "execution_count": 104,
   "id": "f10bbf42",
   "metadata": {
    "deletable": false,
    "editable": false,
    "slideshow": {
     "slide_type": ""
    },
    "tags": []
   },
   "outputs": [
    {
     "name": "stdout",
     "output_type": "stream",
     "text": [
      "Make sure you saved the notebook before running this cell. Running check for lab-compare_hp...\n",
      "Great job! You passed all test cases for this question.\n"
     ]
    }
   ],
   "source": [
    "student_grader.check(\"lab-compare_hp\")"
   ]
  },
  {
   "cell_type": "markdown",
   "id": "397ce676",
   "metadata": {
    "deletable": false,
    "editable": false,
    "slideshow": {
     "slide_type": ""
    },
    "tags": []
   },
   "source": [
    "#### Lab question 11"
   ]
  },
  {
   "cell_type": "markdown",
   "id": "25be6191",
   "metadata": {
    "deletable": false,
    "editable": false,
    "slideshow": {
     "slide_type": ""
    },
    "tags": []
   },
   "source": [
    "Use the `compare_hp` function to determine whether `Snorlax` or `Heracross` has the higher HP."
   ]
  },
  {
   "cell_type": "markdown",
   "id": "0e7d4d83",
   "metadata": {
    "deletable": false,
    "editable": false,
    "slideshow": {
     "slide_type": ""
    },
    "tags": []
   },
   "source": [
    "Points possible: 4.0"
   ]
  },
  {
   "cell_type": "code",
   "execution_count": 106,
   "id": "f9b5d4fb",
   "metadata": {
    "deletable": false,
    "editable": true,
    "slideshow": {
     "slide_type": ""
    },
    "tags": []
   },
   "outputs": [
    {
     "data": {
      "text/plain": [
       "'Snorlax'"
      ]
     },
     "execution_count": 106,
     "metadata": {},
     "output_type": "execute_result"
    }
   ],
   "source": [
    "# replace the None with your code\n",
    "\n",
    "snorlax_heracross_larger_hp = compare_hp(\"Snorlax\",\"Heracross\")\n",
    "snorlax_heracross_larger_hp"
   ]
  },
  {
   "cell_type": "code",
   "execution_count": 108,
   "id": "8b3ff241",
   "metadata": {
    "deletable": false,
    "editable": false,
    "slideshow": {
     "slide_type": ""
    },
    "tags": []
   },
   "outputs": [
    {
     "name": "stdout",
     "output_type": "stream",
     "text": [
      "Make sure you saved the notebook before running this cell. Running check for lab-q11...\n",
      "Great job! You passed all test cases for this question.\n"
     ]
    }
   ],
   "source": [
    "student_grader.check(\"lab-q11\")"
   ]
  },
  {
   "cell_type": "markdown",
   "id": "7b548a59",
   "metadata": {
    "deletable": false,
    "editable": false,
    "slideshow": {
     "slide_type": ""
    },
    "tags": []
   },
   "source": [
    "#### Lab function 2: compare_speed"
   ]
  },
  {
   "cell_type": "markdown",
   "id": "ccda6aa8",
   "metadata": {
    "deletable": false,
    "editable": false,
    "slideshow": {
     "slide_type": ""
    },
    "tags": []
   },
   "source": [
    "This function will return the name of the Pokémon with the higher `Speed` stat. If both Pokémon have the *same* `Speed` stat, this function will return `'Draw'`.\n",
    "\n",
    "The idea behind creating such helper functions is that if in P4 you need to quickly check which Pokémon has a higher `Speed` stat, you can simply call this function, without writing all this code again."
   ]
  },
  {
   "cell_type": "markdown",
   "id": "fe7a00ec",
   "metadata": {
    "deletable": false,
    "editable": false,
    "slideshow": {
     "slide_type": ""
    },
    "tags": []
   },
   "source": [
    "Points possible: 7.0"
   ]
  },
  {
   "cell_type": "code",
   "execution_count": 122,
   "id": "1968836c",
   "metadata": {
    "deletable": false,
    "editable": true,
    "slideshow": {
     "slide_type": ""
    },
    "tags": []
   },
   "outputs": [],
   "source": [
    "# replace the pass below with your code\n",
    "\n",
    "def compare_speed(pkmn1, pkmn2): # DO NOT EDIT THIS LINE\n",
    "    if project.get_speed(pkmn1) > project.get_speed(pkmn2):\n",
    "        return pkmn1\n",
    "    elif project.get_speed(pkmn1) == project.get_speed(pkmn2):\n",
    "        return \"Draw\"\n",
    "    else:\n",
    "        return pkmn2# replace this with your code\n"
   ]
  },
  {
   "cell_type": "code",
   "execution_count": 124,
   "id": "5919581c",
   "metadata": {
    "deletable": false,
    "editable": false,
    "slideshow": {
     "slide_type": ""
    },
    "tags": []
   },
   "outputs": [
    {
     "name": "stdout",
     "output_type": "stream",
     "text": [
      "Make sure you saved the notebook before running this cell. Running check for lab-compare_speed...\n",
      "Great job! You passed all test cases for this question.\n"
     ]
    }
   ],
   "source": [
    "student_grader.check(\"lab-compare_speed\")"
   ]
  },
  {
   "cell_type": "markdown",
   "id": "9f478ff2",
   "metadata": {
    "deletable": false,
    "editable": false,
    "slideshow": {
     "slide_type": ""
    },
    "tags": []
   },
   "source": [
    "#### Lab question 12"
   ]
  },
  {
   "cell_type": "markdown",
   "id": "5da939c4",
   "metadata": {
    "deletable": false,
    "editable": false,
    "slideshow": {
     "slide_type": ""
    },
    "tags": []
   },
   "source": [
    "Which Pokemon is faster when `Bulbasaur` and `Charmander` have their speed compared?"
   ]
  },
  {
   "cell_type": "markdown",
   "id": "975310e6",
   "metadata": {
    "deletable": false,
    "editable": false,
    "slideshow": {
     "slide_type": ""
    },
    "tags": []
   },
   "source": [
    "Points possible: 4.0"
   ]
  },
  {
   "cell_type": "code",
   "execution_count": 126,
   "id": "2c156283",
   "metadata": {
    "deletable": false,
    "editable": true,
    "slideshow": {
     "slide_type": ""
    },
    "tags": []
   },
   "outputs": [
    {
     "data": {
      "text/plain": [
       "'Charmander'"
      ]
     },
     "execution_count": 126,
     "metadata": {},
     "output_type": "execute_result"
    }
   ],
   "source": [
    "# replace the None with your code\n",
    "bulbasaur_charmander_faster = compare_speed(\"Bulbasaur\", \"Charmander\")\n",
    "bulbasaur_charmander_faster"
   ]
  },
  {
   "cell_type": "code",
   "execution_count": 128,
   "id": "26ccbad1",
   "metadata": {
    "deletable": false,
    "editable": false,
    "slideshow": {
     "slide_type": ""
    },
    "tags": []
   },
   "outputs": [
    {
     "name": "stdout",
     "output_type": "stream",
     "text": [
      "Make sure you saved the notebook before running this cell. Running check for lab-q12...\n",
      "Great job! You passed all test cases for this question.\n"
     ]
    }
   ],
   "source": [
    "student_grader.check(\"lab-q12\")"
   ]
  },
  {
   "cell_type": "markdown",
   "id": "2018496f",
   "metadata": {
    "deletable": false,
    "editable": false,
    "slideshow": {
     "slide_type": ""
    },
    "tags": []
   },
   "source": [
    "#### Lab question 13"
   ]
  },
  {
   "cell_type": "markdown",
   "id": "597f8908",
   "metadata": {
    "deletable": false,
    "editable": false,
    "slideshow": {
     "slide_type": ""
    },
    "tags": []
   },
   "source": [
    "Which Pokemon is faster when `Beedrill` and `Pidgey` have their speed compared?"
   ]
  },
  {
   "cell_type": "markdown",
   "id": "053b0d5a",
   "metadata": {
    "deletable": false,
    "editable": false,
    "slideshow": {
     "slide_type": ""
    },
    "tags": []
   },
   "source": [
    "Points possible: 4.0"
   ]
  },
  {
   "cell_type": "code",
   "execution_count": 132,
   "id": "abe991f4",
   "metadata": {
    "deletable": false,
    "editable": true,
    "slideshow": {
     "slide_type": ""
    },
    "tags": []
   },
   "outputs": [
    {
     "data": {
      "text/plain": [
       "'Beedrill'"
      ]
     },
     "execution_count": 132,
     "metadata": {},
     "output_type": "execute_result"
    }
   ],
   "source": [
    "# replace the None with your code\n",
    "beedrill_pidgey_faster = compare_speed(\"Beedrill\", \"Pidgey\")\n",
    "beedrill_pidgey_faster"
   ]
  },
  {
   "cell_type": "code",
   "execution_count": 134,
   "id": "0d1c101c",
   "metadata": {
    "deletable": false,
    "editable": false,
    "slideshow": {
     "slide_type": ""
    },
    "tags": []
   },
   "outputs": [
    {
     "name": "stdout",
     "output_type": "stream",
     "text": [
      "Make sure you saved the notebook before running this cell. Running check for lab-q13...\n",
      "Great job! You passed all test cases for this question.\n"
     ]
    }
   ],
   "source": [
    "student_grader.check(\"lab-q13\")"
   ]
  },
  {
   "cell_type": "markdown",
   "id": "24f52e61",
   "metadata": {
    "deletable": false,
    "editable": false,
    "slideshow": {
     "slide_type": ""
    },
    "tags": []
   },
   "source": [
    "#### Lab question 14"
   ]
  },
  {
   "cell_type": "markdown",
   "id": "2e85d64c-b29d-4b7a-827b-92ac599a9fb4",
   "metadata": {
    "deletable": false,
    "editable": false,
    "slideshow": {
     "slide_type": ""
    },
    "tags": []
   },
   "source": [
    "What is the output of `compare_speed(\"Fennekin\", \"Sylveon\")`?"
   ]
  },
  {
   "cell_type": "markdown",
   "id": "e30aed85",
   "metadata": {
    "deletable": false,
    "editable": false,
    "slideshow": {
     "slide_type": ""
    },
    "tags": []
   },
   "source": [
    "Points possible: 4.0"
   ]
  },
  {
   "cell_type": "code",
   "execution_count": 138,
   "id": "50644ad9",
   "metadata": {
    "deletable": false,
    "editable": true,
    "slideshow": {
     "slide_type": ""
    },
    "tags": []
   },
   "outputs": [
    {
     "data": {
      "text/plain": [
       "'Draw'"
      ]
     },
     "execution_count": 138,
     "metadata": {},
     "output_type": "execute_result"
    }
   ],
   "source": [
    "# replace the None with your code\n",
    "fennekin_sylveon_faster = compare_speed(\"Fennekin\", \"Sylveon\")\n",
    "fennekin_sylveon_faster"
   ]
  },
  {
   "cell_type": "code",
   "execution_count": 140,
   "id": "a16fdc41",
   "metadata": {
    "deletable": false,
    "editable": false,
    "slideshow": {
     "slide_type": ""
    },
    "tags": []
   },
   "outputs": [
    {
     "name": "stdout",
     "output_type": "stream",
     "text": [
      "Make sure you saved the notebook before running this cell. Running check for lab-q14...\n",
      "Great job! You passed all test cases for this question.\n"
     ]
    }
   ],
   "source": [
    "student_grader.check(\"lab-q14\")"
   ]
  },
  {
   "cell_type": "markdown",
   "id": "13dbf292",
   "metadata": {
    "deletable": false,
    "editable": false,
    "slideshow": {
     "slide_type": ""
    },
    "tags": []
   },
   "source": [
    "### Segment 5: Advanced Conditional Statements"
   ]
  },
  {
   "cell_type": "markdown",
   "id": "2791968f",
   "metadata": {
    "deletable": false,
    "editable": false,
    "slideshow": {
     "slide_type": ""
    },
    "tags": []
   },
   "source": [
    "So far, we have only used if/else statements to compare numbers. We'll do something fancier now. As you might have seen in the `pokemon_attributes.csv` file, a Pokémon might have one or more types. For instance, `Pikachu` has just one type: `Electric`, whereas `Charizard` has two: `Fire` and `Flying`. If a Pokemon has only one type, their `type2` will be `DNE`. Pokemon are guaranteed to have at least one type, i.e. their `type1` will never be `DNE`."
   ]
  },
  {
   "cell_type": "markdown",
   "id": "d551cf6c",
   "metadata": {
    "deletable": false,
    "editable": false,
    "slideshow": {
     "slide_type": ""
    },
    "tags": []
   },
   "source": [
    "#### Lab function 3: get_num_types"
   ]
  },
  {
   "cell_type": "markdown",
   "id": "de0d1caa",
   "metadata": {
    "deletable": false,
    "editable": false,
    "slideshow": {
     "slide_type": ""
    },
    "tags": []
   },
   "source": [
    "Pokémon may have up to two different types associated with them. Let's write a function that returns the number of types a Pokémon has."
   ]
  },
  {
   "cell_type": "markdown",
   "id": "3561f8d3",
   "metadata": {
    "deletable": false,
    "editable": false,
    "slideshow": {
     "slide_type": ""
    },
    "tags": []
   },
   "source": [
    "Points possible: 7.0"
   ]
  },
  {
   "cell_type": "code",
   "execution_count": 157,
   "id": "8fca45a9",
   "metadata": {
    "deletable": false,
    "editable": true,
    "slideshow": {
     "slide_type": ""
    },
    "tags": []
   },
   "outputs": [],
   "source": [
    "# replace the ... with your code\n",
    "def get_num_types(pkmn): # DO NOT modify this line\n",
    "    if project.get_type2(pkmn) == \"DNE\" :\n",
    "        return 1\n",
    "    else:\n",
    "        return 2"
   ]
  },
  {
   "cell_type": "code",
   "execution_count": 159,
   "id": "16f372fe",
   "metadata": {
    "deletable": false,
    "editable": false,
    "slideshow": {
     "slide_type": ""
    },
    "tags": []
   },
   "outputs": [
    {
     "name": "stdout",
     "output_type": "stream",
     "text": [
      "Make sure you saved the notebook before running this cell. Running check for lab-get_num_types...\n",
      "Great job! You passed all test cases for this question.\n"
     ]
    }
   ],
   "source": [
    "student_grader.check(\"lab-get_num_types\")"
   ]
  },
  {
   "cell_type": "markdown",
   "id": "953efd46",
   "metadata": {
    "deletable": false,
    "editable": false,
    "slideshow": {
     "slide_type": ""
    },
    "tags": []
   },
   "source": [
    "#### Lab question 15"
   ]
  },
  {
   "cell_type": "markdown",
   "id": "646d1f2d",
   "metadata": {
    "deletable": false,
    "editable": false,
    "slideshow": {
     "slide_type": ""
    },
    "tags": []
   },
   "source": [
    "How many types does `Kubfu` have?"
   ]
  },
  {
   "cell_type": "markdown",
   "id": "8bcb783c",
   "metadata": {
    "deletable": false,
    "editable": false,
    "slideshow": {
     "slide_type": ""
    },
    "tags": []
   },
   "source": [
    "Points possible: 4.0"
   ]
  },
  {
   "cell_type": "code",
   "execution_count": 165,
   "id": "90f586f7",
   "metadata": {
    "deletable": false,
    "editable": true,
    "slideshow": {
     "slide_type": ""
    },
    "tags": []
   },
   "outputs": [
    {
     "data": {
      "text/plain": [
       "1"
      ]
     },
     "execution_count": 165,
     "metadata": {},
     "output_type": "execute_result"
    }
   ],
   "source": [
    "# replace the None with your code\n",
    "num_types_kubfu = get_num_types(\"Kubfu\")\n",
    "num_types_kubfu"
   ]
  },
  {
   "cell_type": "code",
   "execution_count": 167,
   "id": "6b6c3dac",
   "metadata": {
    "deletable": false,
    "editable": false,
    "slideshow": {
     "slide_type": ""
    },
    "tags": []
   },
   "outputs": [
    {
     "name": "stdout",
     "output_type": "stream",
     "text": [
      "Make sure you saved the notebook before running this cell. Running check for lab-q15...\n",
      "Great job! You passed all test cases for this question.\n"
     ]
    }
   ],
   "source": [
    "student_grader.check(\"lab-q15\")"
   ]
  },
  {
   "cell_type": "markdown",
   "id": "ccf4bcf4",
   "metadata": {
    "deletable": false,
    "editable": false,
    "slideshow": {
     "slide_type": ""
    },
    "tags": []
   },
   "source": [
    "#### Lab question 16"
   ]
  },
  {
   "cell_type": "markdown",
   "id": "8b98a49e",
   "metadata": {
    "deletable": false,
    "editable": false,
    "slideshow": {
     "slide_type": ""
    },
    "tags": []
   },
   "source": [
    "How many types does `Dragapult` have?"
   ]
  },
  {
   "cell_type": "markdown",
   "id": "6fa83340",
   "metadata": {
    "deletable": false,
    "editable": false,
    "slideshow": {
     "slide_type": ""
    },
    "tags": []
   },
   "source": [
    "Points possible: 4.0"
   ]
  },
  {
   "cell_type": "code",
   "execution_count": 171,
   "id": "cb42cc6d",
   "metadata": {
    "deletable": false,
    "editable": true,
    "slideshow": {
     "slide_type": ""
    },
    "tags": []
   },
   "outputs": [
    {
     "data": {
      "text/plain": [
       "2"
      ]
     },
     "execution_count": 171,
     "metadata": {},
     "output_type": "execute_result"
    }
   ],
   "source": [
    "# replace the None with your code\n",
    "num_types_dragapult = get_num_types(\"Dragapult\")\n",
    "num_types_dragapult"
   ]
  },
  {
   "cell_type": "code",
   "execution_count": 173,
   "id": "4b51d247",
   "metadata": {
    "deletable": false,
    "editable": false,
    "slideshow": {
     "slide_type": ""
    },
    "tags": []
   },
   "outputs": [
    {
     "name": "stdout",
     "output_type": "stream",
     "text": [
      "Make sure you saved the notebook before running this cell. Running check for lab-q16...\n",
      "Great job! You passed all test cases for this question.\n"
     ]
    }
   ],
   "source": [
    "student_grader.check(\"lab-q16\")"
   ]
  },
  {
   "cell_type": "markdown",
   "id": "e8897660",
   "metadata": {
    "deletable": false,
    "editable": false,
    "slideshow": {
     "slide_type": ""
    },
    "tags": []
   },
   "source": [
    "#### Lab function 4: same_region"
   ]
  },
  {
   "cell_type": "markdown",
   "id": "f520d5ad",
   "metadata": {
    "deletable": false,
    "editable": false,
    "slideshow": {
     "slide_type": ""
    },
    "tags": []
   },
   "source": [
    "Write a new function that checks if two Pokémon come from the **same region**. The function should return `True` if the Pokemon belong to the same region and `False` if they do not."
   ]
  },
  {
   "cell_type": "markdown",
   "id": "734cf5d4",
   "metadata": {
    "deletable": false,
    "editable": false,
    "slideshow": {
     "slide_type": ""
    },
    "tags": []
   },
   "source": [
    "Points possible: 7.0"
   ]
  },
  {
   "cell_type": "code",
   "execution_count": 177,
   "id": "eb371f0c",
   "metadata": {
    "deletable": false,
    "editable": true,
    "slideshow": {
     "slide_type": ""
    },
    "tags": []
   },
   "outputs": [],
   "source": [
    "# replace the pass with your code\n",
    "def same_region(pkmn1, pkmn2): # DO NOT EDIT THIS LINE\n",
    "    return project.get_region(pkmn1) == project.get_region(pkmn2)"
   ]
  },
  {
   "cell_type": "code",
   "execution_count": 179,
   "id": "2528d2e7",
   "metadata": {
    "deletable": false,
    "editable": false,
    "slideshow": {
     "slide_type": ""
    },
    "tags": []
   },
   "outputs": [
    {
     "name": "stdout",
     "output_type": "stream",
     "text": [
      "Make sure you saved the notebook before running this cell. Running check for lab-same_region...\n",
      "Great job! You passed all test cases for this question.\n"
     ]
    }
   ],
   "source": [
    "student_grader.check(\"lab-same_region\")"
   ]
  },
  {
   "cell_type": "markdown",
   "id": "93124282",
   "metadata": {
    "deletable": false,
    "editable": false,
    "slideshow": {
     "slide_type": ""
    },
    "tags": []
   },
   "source": [
    "#### Lab question 17"
   ]
  },
  {
   "cell_type": "markdown",
   "id": "83fb4823",
   "metadata": {
    "deletable": false,
    "editable": false,
    "slideshow": {
     "slide_type": ""
    },
    "tags": []
   },
   "source": [
    "Are `Dialga` and `Palkia` from the same region?"
   ]
  },
  {
   "cell_type": "markdown",
   "id": "47338453",
   "metadata": {
    "deletable": false,
    "editable": false,
    "slideshow": {
     "slide_type": ""
    },
    "tags": []
   },
   "source": [
    "Points possible: 4.0"
   ]
  },
  {
   "cell_type": "code",
   "execution_count": 181,
   "id": "efe3d4be",
   "metadata": {
    "deletable": false,
    "editable": true,
    "slideshow": {
     "slide_type": ""
    },
    "tags": []
   },
   "outputs": [
    {
     "data": {
      "text/plain": [
       "True"
      ]
     },
     "execution_count": 181,
     "metadata": {},
     "output_type": "execute_result"
    }
   ],
   "source": [
    "# replace the None with your code\n",
    "same_region_dialga_palkia = same_region(\"Dialga\",\"Palkia\")\n",
    "same_region_dialga_palkia"
   ]
  },
  {
   "cell_type": "code",
   "execution_count": 183,
   "id": "460c98da",
   "metadata": {
    "deletable": false,
    "editable": false,
    "slideshow": {
     "slide_type": ""
    },
    "tags": []
   },
   "outputs": [
    {
     "name": "stdout",
     "output_type": "stream",
     "text": [
      "Make sure you saved the notebook before running this cell. Running check for lab-q17...\n",
      "Great job! You passed all test cases for this question.\n"
     ]
    }
   ],
   "source": [
    "student_grader.check(\"lab-q17\")"
   ]
  },
  {
   "cell_type": "markdown",
   "id": "6ddb9807",
   "metadata": {
    "deletable": false,
    "editable": false,
    "slideshow": {
     "slide_type": ""
    },
    "tags": []
   },
   "source": [
    "#### Lab question 18"
   ]
  },
  {
   "cell_type": "markdown",
   "id": "a158ffe3",
   "metadata": {
    "deletable": false,
    "editable": false,
    "slideshow": {
     "slide_type": ""
    },
    "tags": []
   },
   "source": [
    "Are `Charizard` and `Swampert` from the same region?"
   ]
  },
  {
   "cell_type": "markdown",
   "id": "5e168292",
   "metadata": {
    "deletable": false,
    "editable": false,
    "slideshow": {
     "slide_type": ""
    },
    "tags": []
   },
   "source": [
    "Points possible: 4.0"
   ]
  },
  {
   "cell_type": "code",
   "execution_count": 187,
   "id": "b61ea9a2",
   "metadata": {
    "deletable": false,
    "editable": true,
    "slideshow": {
     "slide_type": ""
    },
    "tags": []
   },
   "outputs": [
    {
     "data": {
      "text/plain": [
       "False"
      ]
     },
     "execution_count": 187,
     "metadata": {},
     "output_type": "execute_result"
    }
   ],
   "source": [
    "# replace the None with your code\n",
    "same_region_charizard_swampert = same_region(\"Charizard\",\"Swampert\")\n",
    "same_region_charizard_swampert"
   ]
  },
  {
   "cell_type": "code",
   "execution_count": 189,
   "id": "c2800db7",
   "metadata": {
    "deletable": false,
    "editable": false,
    "slideshow": {
     "slide_type": ""
    },
    "tags": []
   },
   "outputs": [
    {
     "name": "stdout",
     "output_type": "stream",
     "text": [
      "Make sure you saved the notebook before running this cell. Running check for lab-q18...\n",
      "Great job! You passed all test cases for this question.\n"
     ]
    }
   ],
   "source": [
    "student_grader.check(\"lab-q18\")"
   ]
  },
  {
   "cell_type": "markdown",
   "id": "8c46ab21",
   "metadata": {
    "deletable": false,
    "editable": false,
    "jp-MarkdownHeadingCollapsed": true,
    "slideshow": {
     "slide_type": ""
    },
    "tags": []
   },
   "source": [
    "### Submit your lab"
   ]
  },
  {
   "cell_type": "markdown",
   "id": "5b7667c2",
   "metadata": {
    "deletable": false,
    "editable": false,
    "slideshow": {
     "slide_type": ""
    },
    "tags": []
   },
   "source": [
    "**Congrats! You've reached the end of the lab.**\n",
    "\n",
    "Please submit your notebook file on gradescope for lab-p4. The next section of the file belongs to the project, so make sure that you understand the contents of the lab before continuing. "
   ]
  },
  {
   "cell_type": "markdown",
   "id": "69cedbc1",
   "metadata": {
    "deletable": false,
    "editable": false,
    "slideshow": {
     "slide_type": ""
    },
    "tags": []
   },
   "source": [
    "## Project portion (20 questions, 8 functions):"
   ]
  },
  {
   "cell_type": "markdown",
   "id": "67ca239e",
   "metadata": {
    "deletable": false,
    "editable": false,
    "jp-MarkdownHeadingCollapsed": true,
    "slideshow": {
     "slide_type": ""
    },
    "tags": []
   },
   "source": [
    "#### Background (rules for Pokemon battles):"
   ]
  },
  {
   "cell_type": "markdown",
   "id": "d388b074",
   "metadata": {
    "deletable": false,
    "editable": false,
    "slideshow": {
     "slide_type": ""
    },
    "tags": []
   },
   "source": [
    "Here are the *rules* governing Pokemon battles:\n",
    "\n",
    "1. A Pokemon battle takes place between **two** Pokemon.\n",
    "2. The two Pokemon **take turns** attacking each other.\n",
    "3. The Pokemon with the higher **Speed** stat attacks first.\n",
    "4. On each turn, the attacking Pokemon can choose between two modes of attack - **Physical** or **Special**.\n",
    "5. In addition to the attack mode, each Pokemon can choose the **type** of its attack.\n",
    "6. Based on the move chosen by the attacking Pokemon, the defending Pokemon receives damage to its **HP**.\n",
    "7. If a Pokemon's **HP** drops to (or below) 0, it **faints**.\n",
    "8. A Pokemon **wins** the battle if its opponent faints first.\n",
    "9. If both Pokemon faint at the **same time**, or if neither Pokemon is able to damage the other, the battle is a **draw**."
   ]
  },
  {
   "cell_type": "markdown",
   "id": "1d1bc188",
   "metadata": {
    "deletable": false,
    "editable": false,
    "slideshow": {
     "slide_type": ""
    },
    "tags": []
   },
   "source": [
    "Throughout this project, we will break this down into smaller parts and slowly build up to the `battle` function. Eventually the `battle` function will determine the outcome of a battle between any two Pokemon.\n",
    "\n",
    "The first thing we need to do is **calculate the damage** caused by one Pokemon's attack on another Pokemon. To accomplish this, we need to create the function `damage`."
   ]
  },
  {
   "cell_type": "markdown",
   "id": "71899f8d",
   "metadata": {
    "deletable": false,
    "editable": false,
    "slideshow": {
     "slide_type": ""
    },
    "tags": []
   },
   "source": [
    "#### Project function 1: `damage`"
   ]
  },
  {
   "cell_type": "markdown",
   "id": "f058f674-dd87-4684-9172-9f6ce5b9373c",
   "metadata": {
    "deletable": false,
    "editable": false,
    "slideshow": {
     "slide_type": ""
    },
    "tags": []
   },
   "source": [
    "The `attacker` can choose between two attack modes - **Physical** or **Special**. The damage caused by the attacker's **Physical** move is `10 * Attack stat of Attacker / Defense stat of Defender`, and the damage caused by the attacker's **Special** move is `10 * Sp. Atk. stat of Attacker / Sp. Def. stat of Defender`.\n",
    "\n",
    "**If the attacker wants to win, it should always choose the move which will do more damage.** So, that is what we want our function `damage` to do. We want this function to find out which mode of attack the attacker would choose, and return the damage that the attacker would do to the defender.\n",
    "\n",
    "Use the following code snippet and fill in the details to complete the `damage` function."
   ]
  },
  {
   "cell_type": "markdown",
   "id": "8f236640",
   "metadata": {
    "deletable": false,
    "editable": false,
    "slideshow": {
     "slide_type": ""
    },
    "tags": []
   },
   "source": [
    "Points possible: 4.0"
   ]
  },
  {
   "cell_type": "code",
   "execution_count": 205,
   "id": "155dcbe7",
   "metadata": {
    "deletable": false,
    "editable": true,
    "slideshow": {
     "slide_type": ""
    },
    "tags": []
   },
   "outputs": [],
   "source": [
    "def damage(attacker, defender):\n",
    "    # TODO: replace the ... with your code\n",
    "    physical_damage = 10 * project.get_attack(attacker) / project.get_defense(defender)  # DO NOT EDIT THIS LINE\n",
    "    special_damage = 10 * project.get_special_attack(attacker)/project.get_special_defense(defender)\n",
    "    if physical_damage > special_damage:\n",
    "        return physical_damage\n",
    "    else:\n",
    "        return special_damage"
   ]
  },
  {
   "cell_type": "code",
   "execution_count": 207,
   "id": "bf9298fc",
   "metadata": {
    "deletable": false,
    "editable": false,
    "slideshow": {
     "slide_type": ""
    },
    "tags": []
   },
   "outputs": [
    {
     "name": "stdout",
     "output_type": "stream",
     "text": [
      "Make sure you saved the notebook before running this cell. Running check for damage...\n",
      "Great job! You passed all test cases for this question.\n"
     ]
    }
   ],
   "source": [
    "student_grader.check(\"damage\")"
   ]
  },
  {
   "cell_type": "markdown",
   "id": "25764378",
   "metadata": {
    "deletable": false,
    "editable": false,
    "slideshow": {
     "slide_type": ""
    },
    "tags": []
   },
   "source": [
    "Now, let's find out if this function works. You **must** use the `damage` function to answer the next two questions."
   ]
  },
  {
   "cell_type": "markdown",
   "id": "2fc08f81",
   "metadata": {
    "deletable": false,
    "editable": false,
    "slideshow": {
     "slide_type": ""
    },
    "tags": []
   },
   "source": [
    "#### Project question 1"
   ]
  },
  {
   "cell_type": "markdown",
   "id": "e006d99d",
   "metadata": {
    "deletable": false,
    "editable": false,
    "slideshow": {
     "slide_type": ""
    },
    "tags": []
   },
   "source": [
    "How much damage does `Tinkaton` do to `Growlithe`?"
   ]
  },
  {
   "cell_type": "markdown",
   "id": "99c36d88",
   "metadata": {
    "deletable": false,
    "editable": false,
    "slideshow": {
     "slide_type": ""
    },
    "tags": []
   },
   "source": [
    "Points possible: 3.0"
   ]
  },
  {
   "cell_type": "code",
   "execution_count": 209,
   "id": "f5715fcd",
   "metadata": {
    "deletable": false,
    "editable": true,
    "slideshow": {
     "slide_type": ""
    },
    "tags": []
   },
   "outputs": [],
   "source": [
    "# replace the None with your code\n",
    "damage_tinkaton_growlithe = damage(\"Tinkaton\",\"Growlithe\")"
   ]
  },
  {
   "cell_type": "code",
   "execution_count": 211,
   "id": "2902bf71",
   "metadata": {
    "deletable": false,
    "editable": false,
    "slideshow": {
     "slide_type": ""
    },
    "tags": []
   },
   "outputs": [
    {
     "name": "stdout",
     "output_type": "stream",
     "text": [
      "Make sure you saved the notebook before running this cell. Running check for q1...\n",
      "Great job! You passed all test cases for this question.\n"
     ]
    }
   ],
   "source": [
    "student_grader.check(\"q1\")"
   ]
  },
  {
   "cell_type": "markdown",
   "id": "e6847d06",
   "metadata": {
    "deletable": false,
    "editable": false,
    "slideshow": {
     "slide_type": ""
    },
    "tags": []
   },
   "source": [
    "#### Project question 2"
   ]
  },
  {
   "cell_type": "markdown",
   "id": "633f2521",
   "metadata": {
    "deletable": false,
    "editable": false,
    "slideshow": {
     "slide_type": ""
    },
    "tags": []
   },
   "source": [
    "How much damage does `Lucario` do to `Klawf`?"
   ]
  },
  {
   "cell_type": "markdown",
   "id": "b1c2064e",
   "metadata": {
    "deletable": false,
    "editable": false,
    "slideshow": {
     "slide_type": ""
    },
    "tags": []
   },
   "source": [
    "Points possible: 3.0"
   ]
  },
  {
   "cell_type": "code",
   "execution_count": 215,
   "id": "a65a4e00",
   "metadata": {
    "deletable": false,
    "editable": true,
    "slideshow": {
     "slide_type": ""
    },
    "tags": []
   },
   "outputs": [
    {
     "data": {
      "text/plain": [
       "20.90909090909091"
      ]
     },
     "execution_count": 215,
     "metadata": {},
     "output_type": "execute_result"
    }
   ],
   "source": [
    "# replace the None with your code\n",
    "damage_lucario_klawf = damage(\"Lucario\",\"Klawf\")\n",
    "damage_lucario_klawf"
   ]
  },
  {
   "cell_type": "code",
   "execution_count": 217,
   "id": "90e85cc5",
   "metadata": {
    "deletable": false,
    "editable": false,
    "slideshow": {
     "slide_type": ""
    },
    "tags": []
   },
   "outputs": [
    {
     "name": "stdout",
     "output_type": "stream",
     "text": [
      "Make sure you saved the notebook before running this cell. Running check for q2...\n",
      "Great job! You passed all test cases for this question.\n"
     ]
    }
   ],
   "source": [
    "student_grader.check(\"q2\")"
   ]
  },
  {
   "cell_type": "markdown",
   "id": "80a8ca24",
   "metadata": {
    "deletable": false,
    "editable": false,
    "slideshow": {
     "slide_type": ""
    },
    "tags": []
   },
   "source": [
    "#### Exploring the `project.get_type_effectiveness` function"
   ]
  },
  {
   "cell_type": "markdown",
   "id": "9e2d4dd8",
   "metadata": {
    "deletable": false,
    "editable": false,
    "slideshow": {
     "slide_type": ""
    },
    "tags": []
   },
   "source": [
    "In addition to choosing the attack **mode** (i.e. **Physical** or **Special**), the attacker can also (sometimes) choose the **type** of attack. Before we figure out what type the attacker should choose, we first need to find out the *effect* of the attack on the defender. Each attack type offers a **type bonus** to the attack damage that we calculated with the `damage` function.\n",
    "\n",
    "If the attacker chooses an attack of type `attack_type` against a defender with only one type, `type1` (i.e. its `type2` is `DNE`), then the **type bonus** of this attack is `get_type_effectiveness(attack_type, type1)`. If the defender has two types `type1` and `type2`, then the **type bonus** of this attack is `get_type_effectiveness(attack_type, type1) * get_type_effectiveness(attack_type, type2)`.\n",
    "\n",
    "For example, let the `attack_type` be `Bug` and the defender be the Pokemon `Charmander`. `Charmander` has only one type, `Fire` (with its `type2` being `DNE`). In this case, we see that"
   ]
  },
  {
   "cell_type": "code",
   "execution_count": 219,
   "id": "636ae422",
   "metadata": {
    "deletable": false,
    "editable": true,
    "slideshow": {
     "slide_type": ""
    },
    "tags": []
   },
   "outputs": [
    {
     "data": {
      "text/plain": [
       "0.5"
      ]
     },
     "execution_count": 219,
     "metadata": {},
     "output_type": "execute_result"
    }
   ],
   "source": [
    "# the effectiveness of Bug against Fire is...\n",
    "project.get_type_effectiveness(\"Bug\", \"Fire\")"
   ]
  },
  {
   "cell_type": "markdown",
   "id": "79a861f6",
   "metadata": {
    "deletable": false,
    "editable": false,
    "slideshow": {
     "slide_type": ""
    },
    "tags": []
   },
   "source": [
    "Therefore, the type bonus of a `Fire` type attack on `Charmander` is `0.5`. On the other hand, consider a `Fire` type attack on the Pokemon `Bulbasaur`. `Bulbasaur` has 2 types, `Grass` and `Poison`. In this case, we see that"
   ]
  },
  {
   "cell_type": "code",
   "execution_count": 221,
   "id": "4eb4db58",
   "metadata": {
    "deletable": false,
    "editable": true,
    "slideshow": {
     "slide_type": ""
    },
    "tags": []
   },
   "outputs": [
    {
     "data": {
      "text/plain": [
       "2.0"
      ]
     },
     "execution_count": 221,
     "metadata": {},
     "output_type": "execute_result"
    }
   ],
   "source": [
    "# the effectiveness of Fire against Grass is...\n",
    "project.get_type_effectiveness(\"Fire\", \"Grass\")"
   ]
  },
  {
   "cell_type": "code",
   "execution_count": 223,
   "id": "421f0084",
   "metadata": {
    "deletable": false,
    "editable": true,
    "slideshow": {
     "slide_type": ""
    },
    "tags": []
   },
   "outputs": [
    {
     "data": {
      "text/plain": [
       "1.0"
      ]
     },
     "execution_count": 223,
     "metadata": {},
     "output_type": "execute_result"
    }
   ],
   "source": [
    "# the effectiveness of Fire against Poison is...\n",
    "project.get_type_effectiveness(\"Fire\", \"Poison\")"
   ]
  },
  {
   "cell_type": "markdown",
   "id": "4af94917",
   "metadata": {
    "deletable": false,
    "editable": false,
    "slideshow": {
     "slide_type": ""
    },
    "tags": []
   },
   "source": [
    "Therefore, the type bonus of a `Fire` type attack on `Bulbasaur` is the product of these two numbers `2.0 * 1.0 = 2.0`."
   ]
  },
  {
   "cell_type": "markdown",
   "id": "c6520dcb",
   "metadata": {
    "deletable": false,
    "editable": false,
    "slideshow": {
     "slide_type": ""
    },
    "tags": []
   },
   "source": [
    "#### Project function 2: `type_bonus`"
   ]
  },
  {
   "cell_type": "markdown",
   "id": "4ac78e23",
   "metadata": {
    "deletable": false,
    "editable": false,
    "slideshow": {
     "slide_type": ""
    },
    "tags": []
   },
   "source": [
    "We are now ready to write the definition of the `type_bonus` function, which will calculate the type bonus of an `attack_type` against a `defender`. We have provided a code snippet for you to work with."
   ]
  },
  {
   "cell_type": "markdown",
   "id": "ad7e6bcc",
   "metadata": {
    "deletable": false,
    "editable": false,
    "slideshow": {
     "slide_type": ""
    },
    "tags": []
   },
   "source": [
    "Points possible: 4.0"
   ]
  },
  {
   "cell_type": "code",
   "execution_count": 233,
   "id": "3c83a801",
   "metadata": {
    "deletable": false,
    "editable": true,
    "slideshow": {
     "slide_type": ""
    },
    "tags": []
   },
   "outputs": [],
   "source": [
    "def type_bonus(attack_type, defender):  # DO NOT EDIT THIS LINE\n",
    "    # TODO: replace the ... with your code\n",
    "    defender_type1 = project.get_type1(defender)\n",
    "    defender_type2 = project.get_type2(defender)\n",
    "    if defender_type2 == \"DNE\":\n",
    "        bonus = project.get_type_effectiveness(attack_type, defender_type1)\n",
    "        return bonus\n",
    "    else:\n",
    "        bonus = project.get_type_effectiveness(attack_type, defender_type1) * project.get_type_effectiveness(attack_type, defender_type2) \n",
    "        return bonus"
   ]
  },
  {
   "cell_type": "code",
   "execution_count": 235,
   "id": "eb176fb5",
   "metadata": {
    "deletable": false,
    "editable": false,
    "slideshow": {
     "slide_type": ""
    },
    "tags": []
   },
   "outputs": [
    {
     "name": "stdout",
     "output_type": "stream",
     "text": [
      "Make sure you saved the notebook before running this cell. Running check for type_bonus...\n",
      "Great job! You passed all test cases for this question.\n"
     ]
    }
   ],
   "source": [
    "student_grader.check(\"type_bonus\")"
   ]
  },
  {
   "cell_type": "markdown",
   "id": "4828e0f3",
   "metadata": {
    "deletable": false,
    "editable": false,
    "slideshow": {
     "slide_type": ""
    },
    "tags": []
   },
   "source": [
    "#### Project question 3"
   ]
  },
  {
   "cell_type": "markdown",
   "id": "5c48a387",
   "metadata": {
    "deletable": false,
    "editable": false,
    "slideshow": {
     "slide_type": ""
    },
    "tags": []
   },
   "source": [
    "How effective is `Rock` type against `Talonflame`? You **must** use the `type_bonus` function to answer this question."
   ]
  },
  {
   "cell_type": "markdown",
   "id": "bb34d9f3",
   "metadata": {
    "deletable": false,
    "editable": false,
    "slideshow": {
     "slide_type": ""
    },
    "tags": []
   },
   "source": [
    "Points possible: 3.0"
   ]
  },
  {
   "cell_type": "code",
   "execution_count": 237,
   "id": "addb1edb",
   "metadata": {
    "deletable": false,
    "editable": true,
    "slideshow": {
     "slide_type": ""
    },
    "tags": []
   },
   "outputs": [
    {
     "data": {
      "text/plain": [
       "4.0"
      ]
     },
     "execution_count": 237,
     "metadata": {},
     "output_type": "execute_result"
    }
   ],
   "source": [
    "# replace the None with your code\n",
    "bonus_rock_talonflame = type_bonus(\"Rock\", \"Talonflame\")\n",
    "bonus_rock_talonflame"
   ]
  },
  {
   "cell_type": "code",
   "execution_count": 239,
   "id": "d751377e",
   "metadata": {
    "deletable": false,
    "editable": false,
    "slideshow": {
     "slide_type": ""
    },
    "tags": []
   },
   "outputs": [
    {
     "name": "stdout",
     "output_type": "stream",
     "text": [
      "Make sure you saved the notebook before running this cell. Running check for q3...\n",
      "Great job! You passed all test cases for this question.\n"
     ]
    }
   ],
   "source": [
    "student_grader.check(\"q3\")"
   ]
  },
  {
   "cell_type": "markdown",
   "id": "6115deb6",
   "metadata": {
    "deletable": false,
    "editable": false,
    "slideshow": {
     "slide_type": ""
    },
    "tags": []
   },
   "source": [
    "#### Project question 4"
   ]
  },
  {
   "cell_type": "markdown",
   "id": "ff40fbad",
   "metadata": {
    "deletable": false,
    "editable": false,
    "slideshow": {
     "slide_type": ""
    },
    "tags": []
   },
   "source": [
    "How effective is `Bug` type against `Ninetales`? You **must** use the `type_bonus` function to answer this question."
   ]
  },
  {
   "cell_type": "markdown",
   "id": "004a81d2",
   "metadata": {
    "deletable": false,
    "editable": false,
    "slideshow": {
     "slide_type": ""
    },
    "tags": []
   },
   "source": [
    "Points possible: 3.0"
   ]
  },
  {
   "cell_type": "code",
   "execution_count": 241,
   "id": "62acbd89",
   "metadata": {
    "deletable": false,
    "editable": true,
    "slideshow": {
     "slide_type": ""
    },
    "tags": []
   },
   "outputs": [
    {
     "data": {
      "text/plain": [
       "0.5"
      ]
     },
     "execution_count": 241,
     "metadata": {},
     "output_type": "execute_result"
    }
   ],
   "source": [
    "# replace the None with your code\n",
    "bonus_bug_ninetales = type_bonus(\"Bug\", \"Ninetales\")\n",
    "bonus_bug_ninetales"
   ]
  },
  {
   "cell_type": "code",
   "execution_count": 243,
   "id": "09ee062d",
   "metadata": {
    "deletable": false,
    "editable": false,
    "slideshow": {
     "slide_type": ""
    },
    "tags": []
   },
   "outputs": [
    {
     "name": "stdout",
     "output_type": "stream",
     "text": [
      "Make sure you saved the notebook before running this cell. Running check for q4...\n",
      "Great job! You passed all test cases for this question.\n"
     ]
    }
   ],
   "source": [
    "student_grader.check(\"q4\")"
   ]
  },
  {
   "cell_type": "markdown",
   "id": "9be3ac68",
   "metadata": {
    "deletable": false,
    "editable": false,
    "slideshow": {
     "slide_type": ""
    },
    "tags": []
   },
   "source": [
    "#### Background info for `effective_damage`"
   ]
  },
  {
   "cell_type": "markdown",
   "id": "80598f3e",
   "metadata": {
    "deletable": false,
    "editable": false,
    "slideshow": {
     "slide_type": ""
    },
    "tags": []
   },
   "source": [
    "When an `attacker` chooses an attack of type `attack_type` against a `defender`, the damage done is `type_bonus(attack_type, defender) * damage(attacker, defender)`.\n",
    "\n",
    "An attacker can choose between any of its types for its attack type. So, if an attacker has two types, it can choose **either** type 1 or type 2 as its attack type. However, if it has only one type (i.e. its `type2` is `DNE`), it has **no choice** but to choose type 1 as its attack type. For example, a Pokemon like `Stufful` which has two types (`Normal` and `Fighting`) can choose to make its attack either `Normal` type or `Fighting` type. On the other hand, a Pokemon like `Magikarp` which has only one type (`Water`) can only make its attack a `Water` type attack.\n",
    "\n",
    "While a Pokemon with only one type doesn't have a choice, **a Pokemon with two types can choose its attack between its two types**. If the attacker wants to win, it should always choose the type which will do more damage.\n",
    "\n",
    "Let us consider the case when an **attacker has only one type**. (i.e. `type2` is `DNE`). To illustrate this, we take `Magikarp` as the attacker and `Cinderace` as the defender. Let us first ensure that `Magikarp` has only 1 type."
   ]
  },
  {
   "cell_type": "code",
   "execution_count": 245,
   "id": "03750f3e",
   "metadata": {
    "deletable": false,
    "editable": true,
    "scrolled": true,
    "slideshow": {
     "slide_type": ""
    },
    "tags": []
   },
   "outputs": [
    {
     "data": {
      "text/plain": [
       "'Water'"
      ]
     },
     "execution_count": 245,
     "metadata": {},
     "output_type": "execute_result"
    }
   ],
   "source": [
    "# type1 of Magikarp is...\n",
    "project.get_type1(\"Magikarp\")"
   ]
  },
  {
   "cell_type": "code",
   "execution_count": 247,
   "id": "c0ebefb9",
   "metadata": {
    "deletable": false,
    "editable": true,
    "slideshow": {
     "slide_type": ""
    },
    "tags": []
   },
   "outputs": [
    {
     "data": {
      "text/plain": [
       "'DNE'"
      ]
     },
     "execution_count": 247,
     "metadata": {},
     "output_type": "execute_result"
    }
   ],
   "source": [
    "# and type2 of Magikarp is...\n",
    "project.get_type2(\"Magikarp\")"
   ]
  },
  {
   "cell_type": "markdown",
   "id": "8f05eb31",
   "metadata": {
    "deletable": false,
    "editable": false,
    "slideshow": {
     "slide_type": ""
    },
    "tags": []
   },
   "source": [
    "In this case, we simply take the `type_bonus` of the first type against `Cinderace` (the defender)."
   ]
  },
  {
   "cell_type": "code",
   "execution_count": 249,
   "id": "a049f8db",
   "metadata": {
    "deletable": false,
    "editable": true,
    "slideshow": {
     "slide_type": ""
    },
    "tags": []
   },
   "outputs": [
    {
     "data": {
      "text/plain": [
       "2.0"
      ]
     },
     "execution_count": 249,
     "metadata": {},
     "output_type": "execute_result"
    }
   ],
   "source": [
    "# so the bonus that Magikarp gets against Cinderace is...\n",
    "bonus = type_bonus(project.get_type1(\"Magikarp\"), \"Cinderace\")\n",
    "bonus"
   ]
  },
  {
   "cell_type": "markdown",
   "id": "68ea629e",
   "metadata": {
    "deletable": false,
    "editable": false,
    "slideshow": {
     "slide_type": ""
    },
    "tags": []
   },
   "source": [
    "If your `type_bonus` function works correctly, `bonus` should have the value `2.0`. To calculate the **effective damage** that Magikarp does to Cinderace, we just have to compute `damage(\"Magikarp\", \"Cinderace\") * 2.0`"
   ]
  },
  {
   "cell_type": "markdown",
   "id": "ceb49c11",
   "metadata": {
    "deletable": false,
    "editable": false,
    "slideshow": {
     "slide_type": ""
    },
    "tags": []
   },
   "source": [
    "We will now consider the case where an **attacker has two types**.\n",
    "\n",
    "To illustrate this, we take `Stufful` as the `attacker` and `Lucario` as the `defender`. The type bonus of the two types of `Stufful` against `Cinderace` are as follows:"
   ]
  },
  {
   "cell_type": "code",
   "execution_count": 251,
   "id": "b1f710c7",
   "metadata": {
    "deletable": false,
    "editable": true,
    "slideshow": {
     "slide_type": ""
    },
    "tags": []
   },
   "outputs": [
    {
     "data": {
      "text/plain": [
       "0.5"
      ]
     },
     "execution_count": 251,
     "metadata": {},
     "output_type": "execute_result"
    }
   ],
   "source": [
    "# the type bonus of type1 (Normal) of Stufful against Lucario is...\n",
    "bonus_type1 = type_bonus(project.get_type1(\"Stufful\"), \"Lucario\")\n",
    "bonus_type1"
   ]
  },
  {
   "cell_type": "code",
   "execution_count": 253,
   "id": "bf97a5f8",
   "metadata": {
    "deletable": false,
    "editable": true,
    "slideshow": {
     "slide_type": ""
    },
    "tags": []
   },
   "outputs": [
    {
     "data": {
      "text/plain": [
       "2.0"
      ]
     },
     "execution_count": 253,
     "metadata": {},
     "output_type": "execute_result"
    }
   ],
   "source": [
    "# and the type bonus of type2 (Fighting) of Stufful against Lucario is...\n",
    "bonus_type2 = type_bonus(project.get_type2(\"Stufful\"), \"Lucario\")\n",
    "bonus_type2"
   ]
  },
  {
   "cell_type": "markdown",
   "id": "0fade936",
   "metadata": {
    "deletable": false,
    "editable": false,
    "slideshow": {
     "slide_type": ""
    },
    "tags": []
   },
   "source": [
    "If your `type_bonus` function works correctly, then `bonus_type1` should have the value `0.5`, and `bonus_type2` should have the value `2.0`. Clearly, `Stufful`'s second type (`Fighting`) causes more damage to `Lucario` than its first type (`Normal`). So, **`Stufful` would choose its `Fighting` type attack instead of its `Normal` type attack against `Lucario`**.\n",
    "\n",
    "Therefore, the **effective** `bonus` is `max(0.5, 2.0) = 2.0`. So, the **effective damage** that `Stufful` does to `Lucario` is `damage(\"Stufful\", \"Lucario\") * 2.0`."
   ]
  },
  {
   "cell_type": "markdown",
   "id": "ab48166f",
   "metadata": {
    "deletable": false,
    "editable": false,
    "slideshow": {
     "slide_type": ""
    },
    "tags": []
   },
   "source": [
    "#### Project function 3: `effective_damage`"
   ]
  },
  {
   "cell_type": "markdown",
   "id": "c9520bb4",
   "metadata": {
    "deletable": false,
    "editable": false,
    "slideshow": {
     "slide_type": ""
    },
    "tags": []
   },
   "source": [
    "Now we'll write a function `effective_damage` to compute the actual damage that an `attacker` would do to the `defender` when taking into account both the **attack mode** and **attack type**.\n",
    "\n",
    "The `effective_damage` function definition **must** invoke the `get_num_types` function.\n",
    "\n",
    "Start with the code snippet provided below."
   ]
  },
  {
   "cell_type": "markdown",
   "id": "c09a3983",
   "metadata": {
    "deletable": false,
    "editable": false,
    "slideshow": {
     "slide_type": ""
    },
    "tags": []
   },
   "source": [
    "Points possible: 6.0"
   ]
  },
  {
   "cell_type": "code",
   "execution_count": 257,
   "id": "05574eab",
   "metadata": {
    "deletable": false,
    "editable": true,
    "slideshow": {
     "slide_type": ""
    },
    "tags": []
   },
   "outputs": [],
   "source": [
    "def effective_damage(attacker, defender):\n",
    "    num_types = get_num_types(attacker)\n",
    "    \n",
    "    base_damage = damage(attacker, defender)\n",
    "    \n",
    "    if num_types == 1:\n",
    "        bonus = type_bonus(project.get_type1(attacker), defender)\n",
    "        return base_damage * bonus\n",
    "    else:\n",
    "        type1_bonus = type_bonus(project.get_type1(attacker), defender)\n",
    "        type2_bonus = type_bonus(project.get_type2(attacker), defender)\n",
    "        return base_damage * max(type1_bonus, type2_bonus)"
   ]
  },
  {
   "cell_type": "code",
   "execution_count": 259,
   "id": "fea3503a",
   "metadata": {
    "deletable": false,
    "editable": false,
    "slideshow": {
     "slide_type": ""
    },
    "tags": []
   },
   "outputs": [
    {
     "name": "stdout",
     "output_type": "stream",
     "text": [
      "Make sure you saved the notebook before running this cell. Running check for effective_damage...\n",
      "Great job! You passed all test cases for this question.\n"
     ]
    }
   ],
   "source": [
    "student_grader.check(\"effective_damage\")"
   ]
  },
  {
   "cell_type": "markdown",
   "id": "149e571c",
   "metadata": {
    "deletable": false,
    "editable": false,
    "slideshow": {
     "slide_type": ""
    },
    "tags": []
   },
   "source": [
    "#### Project question 5"
   ]
  },
  {
   "cell_type": "markdown",
   "id": "a73e14e1",
   "metadata": {
    "deletable": false,
    "editable": false,
    "slideshow": {
     "slide_type": ""
    },
    "tags": []
   },
   "source": [
    "How much **effective** damage does `Mudkip` do to `Treecko`?"
   ]
  },
  {
   "cell_type": "markdown",
   "id": "58259786",
   "metadata": {
    "deletable": false,
    "editable": false,
    "slideshow": {
     "slide_type": ""
    },
    "tags": []
   },
   "source": [
    "Points possible: 3.0"
   ]
  },
  {
   "cell_type": "code",
   "execution_count": 261,
   "id": "bf3f077a",
   "metadata": {
    "deletable": false,
    "editable": true,
    "slideshow": {
     "slide_type": ""
    },
    "tags": []
   },
   "outputs": [
    {
     "data": {
      "text/plain": [
       "10.0"
      ]
     },
     "execution_count": 261,
     "metadata": {},
     "output_type": "execute_result"
    }
   ],
   "source": [
    "# replace the None with your code\n",
    "eff_damage_mudkip_treecko = effective_damage(\"Mudkip\",\"Treecko\")\n",
    "eff_damage_mudkip_treecko"
   ]
  },
  {
   "cell_type": "code",
   "execution_count": 263,
   "id": "33c6abf1",
   "metadata": {
    "deletable": false,
    "editable": false,
    "slideshow": {
     "slide_type": ""
    },
    "tags": []
   },
   "outputs": [
    {
     "name": "stdout",
     "output_type": "stream",
     "text": [
      "Make sure you saved the notebook before running this cell. Running check for q5...\n",
      "Great job! You passed all test cases for this question.\n"
     ]
    }
   ],
   "source": [
    "student_grader.check(\"q5\")"
   ]
  },
  {
   "cell_type": "markdown",
   "id": "50a835d8",
   "metadata": {
    "deletable": false,
    "editable": false,
    "slideshow": {
     "slide_type": ""
    },
    "tags": []
   },
   "source": [
    "#### Project question 6"
   ]
  },
  {
   "cell_type": "markdown",
   "id": "b392d98f",
   "metadata": {
    "deletable": false,
    "editable": false,
    "slideshow": {
     "slide_type": ""
    },
    "tags": []
   },
   "source": [
    "How much **effective** damage does `Gengar` do to `Lapras`?"
   ]
  },
  {
   "cell_type": "markdown",
   "id": "63045db7",
   "metadata": {
    "deletable": false,
    "editable": false,
    "slideshow": {
     "slide_type": ""
    },
    "tags": []
   },
   "source": [
    "Points possible: 3.0"
   ]
  },
  {
   "cell_type": "code",
   "execution_count": 267,
   "id": "2dfd9c6a",
   "metadata": {
    "deletable": false,
    "editable": true,
    "slideshow": {
     "slide_type": ""
    },
    "tags": []
   },
   "outputs": [
    {
     "data": {
      "text/plain": [
       "13.68421052631579"
      ]
     },
     "execution_count": 267,
     "metadata": {},
     "output_type": "execute_result"
    }
   ],
   "source": [
    "# replace the None with your code\n",
    "eff_damage_gengar_lapras = effective_damage(\"Gengar\",\"Lapras\")\n",
    "eff_damage_gengar_lapras"
   ]
  },
  {
   "cell_type": "code",
   "execution_count": 269,
   "id": "033017c6",
   "metadata": {
    "deletable": false,
    "editable": false,
    "slideshow": {
     "slide_type": ""
    },
    "tags": []
   },
   "outputs": [
    {
     "name": "stdout",
     "output_type": "stream",
     "text": [
      "Make sure you saved the notebook before running this cell. Running check for q6...\n",
      "Great job! You passed all test cases for this question.\n"
     ]
    }
   ],
   "source": [
    "student_grader.check(\"q6\")"
   ]
  },
  {
   "cell_type": "markdown",
   "id": "1cfb229d",
   "metadata": {
    "deletable": false,
    "editable": false,
    "slideshow": {
     "slide_type": ""
    },
    "tags": []
   },
   "source": [
    "#### Project question 7"
   ]
  },
  {
   "cell_type": "markdown",
   "id": "8208f6e2",
   "metadata": {
    "deletable": false,
    "editable": false,
    "slideshow": {
     "slide_type": ""
    },
    "tags": []
   },
   "source": [
    "How much **effective** damage does `Larvitar` do to `Charizard`?"
   ]
  },
  {
   "cell_type": "markdown",
   "id": "2a8d3b30",
   "metadata": {
    "deletable": false,
    "editable": false,
    "slideshow": {
     "slide_type": ""
    },
    "tags": []
   },
   "source": [
    "Points possible: 3.0"
   ]
  },
  {
   "cell_type": "code",
   "execution_count": 277,
   "id": "531cf48f",
   "metadata": {
    "deletable": false,
    "editable": true,
    "slideshow": {
     "slide_type": ""
    },
    "tags": []
   },
   "outputs": [
    {
     "data": {
      "text/plain": [
       "32.82051282051282"
      ]
     },
     "execution_count": 277,
     "metadata": {},
     "output_type": "execute_result"
    }
   ],
   "source": [
    "# replace the None with your code\n",
    "eff_damage_larvitar_charizard = effective_damage(\"Larvitar\",\"Charizard\")\n",
    "eff_damage_larvitar_charizard"
   ]
  },
  {
   "cell_type": "code",
   "execution_count": 279,
   "id": "a389c3c7",
   "metadata": {
    "deletable": false,
    "editable": false,
    "slideshow": {
     "slide_type": ""
    },
    "tags": []
   },
   "outputs": [
    {
     "name": "stdout",
     "output_type": "stream",
     "text": [
      "Make sure you saved the notebook before running this cell. Running check for q7...\n",
      "Great job! You passed all test cases for this question.\n"
     ]
    }
   ],
   "source": [
    "student_grader.check(\"q7\")"
   ]
  },
  {
   "cell_type": "markdown",
   "id": "3e7ed316",
   "metadata": {
    "deletable": false,
    "editable": false,
    "slideshow": {
     "slide_type": ""
    },
    "tags": []
   },
   "source": [
    "#### Project function 4: `num_hits`"
   ]
  },
  {
   "cell_type": "markdown",
   "id": "fc32ee2c",
   "metadata": {
    "deletable": false,
    "editable": false,
    "slideshow": {
     "slide_type": ""
    },
    "tags": []
   },
   "source": [
    "Now that we have a way of calculating the damage done by the Pokemon during battle, we have to calculate **how many hits** each Pokemon can take before fainting.\n",
    "\n",
    "When the `attacker` does an **effective damage** of `0.0` against the `defender`, then the function should return the **string** `'infinitely many'`. **Otherwise**, the function should compute and return the number of hits required by the `attacker` to make the `defender` faint (as described below).\n",
    "\n",
    "A Pokémon faints when its total damage taken is equal to or greater than its HP. Damage is applied all at once per turn. For example, if a defending Pokémon has 30 HP and the attacker deals 20 damage each turn, it will take 2 turns for the defender to faint, not 1.5. \n",
    "\n",
    "You must use `math.ceil` here. Remember that `math.ceil` outputs the next largest integer for its input. For example, `math.ceil(1.5)` evaluates to 2, as does `math.ceil(3/2)`.\n",
    "\n",
    "You'll also notice we use the `round()` function when checking if **effective damage** is equal to `0.0`. On some computers, doing many multiplication and division operations can lead to issues with [Floating Point Arithmetic](https://docs.python.org/3/tutorial/floatingpoint.html), where a variable is incorrect by a tiny (10 ^ -5 or smaller!) margin. The `round()` function ensures we fix any potential floating point arithmetic errors that might arise when computing effective damage so that `num_hits()` works as expected."
   ]
  },
  {
   "cell_type": "markdown",
   "id": "38b78ce9",
   "metadata": {
    "deletable": false,
    "editable": false,
    "slideshow": {
     "slide_type": ""
    },
    "tags": []
   },
   "source": [
    "Points possible: 4.0"
   ]
  },
  {
   "cell_type": "code",
   "execution_count": 281,
   "id": "6d959184",
   "metadata": {
    "deletable": false,
    "editable": true,
    "slideshow": {
     "slide_type": ""
    },
    "tags": []
   },
   "outputs": [],
   "source": [
    "def num_hits(attacker, defender):\n",
    "    eff_dam = effective_damage(attacker, defender)\n",
    "    if round(eff_dam, 4) == 0:  \n",
    "        return 'infinitely many'\n",
    "    else:\n",
    "        defender_hp = project.get_hp(defender)\n",
    "        return math.ceil(defender_hp / eff_dam)"
   ]
  },
  {
   "cell_type": "code",
   "execution_count": 283,
   "id": "8ca93ee0",
   "metadata": {
    "deletable": false,
    "editable": false,
    "slideshow": {
     "slide_type": ""
    },
    "tags": []
   },
   "outputs": [
    {
     "name": "stdout",
     "output_type": "stream",
     "text": [
      "Make sure you saved the notebook before running this cell. Running check for num_hits...\n",
      "Great job! You passed all test cases for this question.\n"
     ]
    }
   ],
   "source": [
    "student_grader.check(\"num_hits\")"
   ]
  },
  {
   "cell_type": "markdown",
   "id": "2d8b63b1",
   "metadata": {
    "deletable": false,
    "editable": false,
    "slideshow": {
     "slide_type": ""
    },
    "tags": []
   },
   "source": [
    "#### Project question 8"
   ]
  },
  {
   "cell_type": "markdown",
   "id": "8fe8423e",
   "metadata": {
    "deletable": false,
    "editable": false,
    "slideshow": {
     "slide_type": ""
    },
    "tags": []
   },
   "source": [
    "How many hits can the *defending* Pokemon `Snorlax` take from `Golem`(*attacker*)?"
   ]
  },
  {
   "cell_type": "markdown",
   "id": "4e2cb274",
   "metadata": {
    "deletable": false,
    "editable": false,
    "slideshow": {
     "slide_type": ""
    },
    "tags": []
   },
   "source": [
    "Points possible: 3.0"
   ]
  },
  {
   "cell_type": "code",
   "execution_count": 285,
   "id": "5f165638",
   "metadata": {
    "deletable": false,
    "editable": true,
    "slideshow": {
     "slide_type": ""
    },
    "tags": []
   },
   "outputs": [
    {
     "data": {
      "text/plain": [
       "9"
      ]
     },
     "execution_count": 285,
     "metadata": {},
     "output_type": "execute_result"
    }
   ],
   "source": [
    "# replace the None with your code\n",
    "hits_snorlax_golem = num_hits(\"Golem\",\"Snorlax\")\n",
    "hits_snorlax_golem"
   ]
  },
  {
   "cell_type": "code",
   "execution_count": 287,
   "id": "6da0c084",
   "metadata": {
    "deletable": false,
    "editable": false,
    "slideshow": {
     "slide_type": ""
    },
    "tags": []
   },
   "outputs": [
    {
     "name": "stdout",
     "output_type": "stream",
     "text": [
      "Make sure you saved the notebook before running this cell. Running check for q8...\n",
      "Great job! You passed all test cases for this question.\n"
     ]
    }
   ],
   "source": [
    "student_grader.check(\"q8\")"
   ]
  },
  {
   "cell_type": "markdown",
   "id": "ce1d7d60",
   "metadata": {
    "deletable": false,
    "editable": false,
    "slideshow": {
     "slide_type": ""
    },
    "tags": []
   },
   "source": [
    "#### Project question 9"
   ]
  },
  {
   "cell_type": "markdown",
   "id": "34e3cc25",
   "metadata": {
    "deletable": false,
    "editable": false,
    "slideshow": {
     "slide_type": ""
    },
    "tags": []
   },
   "source": [
    "How many hits can the *defending* Pokemon `Sceptile` take from `Meowscarada`(*attacker*)?"
   ]
  },
  {
   "cell_type": "markdown",
   "id": "4e78d150",
   "metadata": {
    "deletable": false,
    "editable": false,
    "slideshow": {
     "slide_type": ""
    },
    "tags": []
   },
   "source": [
    "Points possible: 3.0"
   ]
  },
  {
   "cell_type": "code",
   "execution_count": 291,
   "id": "c10b44dd",
   "metadata": {
    "deletable": false,
    "editable": true,
    "slideshow": {
     "slide_type": ""
    },
    "tags": []
   },
   "outputs": [
    {
     "data": {
      "text/plain": [
       "5"
      ]
     },
     "execution_count": 291,
     "metadata": {},
     "output_type": "execute_result"
    }
   ],
   "source": [
    "# replace the None with your code\n",
    "hits_sceptile_meowscarada = num_hits(\"Meowscarada\",\"Sceptile\")\n",
    "hits_sceptile_meowscarada"
   ]
  },
  {
   "cell_type": "code",
   "execution_count": 293,
   "id": "d191d1a0",
   "metadata": {
    "deletable": false,
    "editable": false,
    "slideshow": {
     "slide_type": ""
    },
    "tags": []
   },
   "outputs": [
    {
     "name": "stdout",
     "output_type": "stream",
     "text": [
      "Make sure you saved the notebook before running this cell. Running check for q9...\n",
      "Great job! You passed all test cases for this question.\n"
     ]
    }
   ],
   "source": [
    "student_grader.check(\"q9\")"
   ]
  },
  {
   "cell_type": "markdown",
   "id": "4f8d96c7",
   "metadata": {
    "deletable": false,
    "editable": false,
    "slideshow": {
     "slide_type": ""
    },
    "tags": []
   },
   "source": [
    "#### Project question 10"
   ]
  },
  {
   "cell_type": "markdown",
   "id": "650233c2",
   "metadata": {
    "deletable": false,
    "editable": false,
    "slideshow": {
     "slide_type": ""
    },
    "tags": []
   },
   "source": [
    "How many hits can the *defending* Pokemon `Copperajah` take from `Trubbish`(*attacker*)?"
   ]
  },
  {
   "cell_type": "markdown",
   "id": "e8c921f6",
   "metadata": {
    "deletable": false,
    "editable": false,
    "slideshow": {
     "slide_type": ""
    },
    "tags": []
   },
   "source": [
    "Points possible: 3.0"
   ]
  },
  {
   "cell_type": "code",
   "execution_count": 295,
   "id": "01a587fa",
   "metadata": {
    "deletable": false,
    "editable": true,
    "slideshow": {
     "slide_type": ""
    },
    "tags": []
   },
   "outputs": [
    {
     "data": {
      "text/plain": [
       "'infinitely many'"
      ]
     },
     "execution_count": 295,
     "metadata": {},
     "output_type": "execute_result"
    }
   ],
   "source": [
    "# replace the None with your code\n",
    "hits_copperajah_trubbish = num_hits(\"Trubbish\",\"Copperajah\")\n",
    "hits_copperajah_trubbish"
   ]
  },
  {
   "cell_type": "code",
   "execution_count": 297,
   "id": "44c819f1",
   "metadata": {
    "deletable": false,
    "editable": false,
    "slideshow": {
     "slide_type": ""
    },
    "tags": []
   },
   "outputs": [
    {
     "name": "stdout",
     "output_type": "stream",
     "text": [
      "Make sure you saved the notebook before running this cell. Running check for q10...\n",
      "Great job! You passed all test cases for this question.\n"
     ]
    }
   ],
   "source": [
    "student_grader.check(\"q10\")"
   ]
  },
  {
   "cell_type": "markdown",
   "id": "a01641ca",
   "metadata": {
    "deletable": false,
    "editable": false,
    "slideshow": {
     "slide_type": ""
    },
    "tags": []
   },
   "source": [
    "#### Project function 5: `battle`"
   ]
  },
  {
   "cell_type": "markdown",
   "id": "11c42a74",
   "metadata": {
    "deletable": false,
    "editable": false,
    "slideshow": {
     "slide_type": ""
    },
    "tags": []
   },
   "source": [
    "With the functions we have created so far, we can now finally start creating our **battle simulator**.\n",
    "\n",
    "This function should take in two Pokemon `pkmn1`, and `pkmn2` as its parameters, and it should output the name of the Pokemon which wins the battle or `'Draw'`.\n",
    "\n",
    "Note that we will **ignore** the cases where one Pokemon can take infinite hits from another Pokemon. We will just consider pairs of Pokemon that can both do **non-zero** effective damage to each other.\n",
    "\n",
    "The function should return the name of the Pokemon that can take more hits than the other. If both Pokemon can take the same number of hits, the Pokemon with the higher **speed** wins. If they both have the same **speed**, then the function should return `'Draw'`. This should sound familiar, because the `compare_speed` function you wrote in the lab does exactly that."
   ]
  },
  {
   "cell_type": "markdown",
   "id": "e3acbddf",
   "metadata": {
    "deletable": false,
    "editable": false,
    "slideshow": {
     "slide_type": ""
    },
    "tags": []
   },
   "source": [
    "Points possible: 8.0"
   ]
  },
  {
   "cell_type": "code",
   "execution_count": 313,
   "id": "c5c9f96f",
   "metadata": {
    "deletable": false,
    "editable": true,
    "slideshow": {
     "slide_type": ""
    },
    "tags": []
   },
   "outputs": [],
   "source": [
    "def battle(pkmn1, pkmn2):\n",
    "    hits_pkmn1 = num_hits(pkmn2, pkmn1)  \n",
    "    hits_pkmn2 = num_hits(pkmn1, pkmn2)  \n",
    "\n",
    "    if hits_pkmn1 > hits_pkmn2:\n",
    "        return pkmn1  \n",
    "    elif hits_pkmn2 > hits_pkmn1:\n",
    "        return pkmn2  \n",
    "    else:\n",
    "        faster_pokemon = compare_speed(pkmn1, pkmn2)\n",
    "        \n",
    "        if faster_pokemon != \"Draw\":\n",
    "            return faster_pokemon  \n",
    "        else:\n",
    "            return \"Draw\""
   ]
  },
  {
   "cell_type": "code",
   "execution_count": 315,
   "id": "b008a286",
   "metadata": {
    "deletable": false,
    "editable": false,
    "slideshow": {
     "slide_type": ""
    },
    "tags": []
   },
   "outputs": [
    {
     "name": "stdout",
     "output_type": "stream",
     "text": [
      "Make sure you saved the notebook before running this cell. Running check for battle...\n",
      "Great job! You passed all test cases for this question.\n"
     ]
    }
   ],
   "source": [
    "student_grader.check(\"battle\")"
   ]
  },
  {
   "cell_type": "markdown",
   "id": "0bcd60d6",
   "metadata": {
    "deletable": false,
    "editable": false,
    "slideshow": {
     "slide_type": ""
    },
    "tags": []
   },
   "source": [
    "#### Project question 11"
   ]
  },
  {
   "cell_type": "markdown",
   "id": "2fb99d2b",
   "metadata": {
    "deletable": false,
    "editable": false,
    "slideshow": {
     "slide_type": ""
    },
    "tags": []
   },
   "source": [
    "Who would be the winner of a battle between `'Infernape'` and `'Typhlosion'`?"
   ]
  },
  {
   "cell_type": "markdown",
   "id": "42fcda0f",
   "metadata": {
    "deletable": false,
    "editable": false,
    "slideshow": {
     "slide_type": ""
    },
    "tags": []
   },
   "source": [
    "Points possible: 3.0"
   ]
  },
  {
   "cell_type": "code",
   "execution_count": 317,
   "id": "04b23438",
   "metadata": {
    "deletable": false,
    "editable": true,
    "scrolled": true,
    "slideshow": {
     "slide_type": ""
    },
    "tags": []
   },
   "outputs": [
    {
     "data": {
      "text/plain": [
       "'Infernape'"
      ]
     },
     "execution_count": 317,
     "metadata": {},
     "output_type": "execute_result"
    }
   ],
   "source": [
    "# replace the None with your code\n",
    "winner_infernape_typhlosion = battle(\"Infernape\",\"Typhlosion\")\n",
    "winner_infernape_typhlosion"
   ]
  },
  {
   "cell_type": "code",
   "execution_count": 319,
   "id": "502ff520",
   "metadata": {
    "deletable": false,
    "editable": false,
    "slideshow": {
     "slide_type": ""
    },
    "tags": []
   },
   "outputs": [
    {
     "name": "stdout",
     "output_type": "stream",
     "text": [
      "Make sure you saved the notebook before running this cell. Running check for q11...\n",
      "Great job! You passed all test cases for this question.\n"
     ]
    }
   ],
   "source": [
    "student_grader.check(\"q11\")"
   ]
  },
  {
   "cell_type": "markdown",
   "id": "b6322418",
   "metadata": {
    "deletable": false,
    "editable": false,
    "slideshow": {
     "slide_type": ""
    },
    "tags": []
   },
   "source": [
    "#### Project question 12"
   ]
  },
  {
   "cell_type": "markdown",
   "id": "04e0ce5f",
   "metadata": {
    "deletable": false,
    "editable": false,
    "slideshow": {
     "slide_type": ""
    },
    "tags": []
   },
   "source": [
    "Who would be the winner of a battle between `'Espeon'` and `'Sylveon'`?"
   ]
  },
  {
   "cell_type": "markdown",
   "id": "356a1185",
   "metadata": {
    "deletable": false,
    "editable": false,
    "slideshow": {
     "slide_type": ""
    },
    "tags": []
   },
   "source": [
    "Points possible: 3.0"
   ]
  },
  {
   "cell_type": "code",
   "execution_count": 321,
   "id": "fb80980e",
   "metadata": {
    "deletable": false,
    "editable": true,
    "scrolled": true,
    "slideshow": {
     "slide_type": ""
    },
    "tags": []
   },
   "outputs": [
    {
     "data": {
      "text/plain": [
       "'Sylveon'"
      ]
     },
     "execution_count": 321,
     "metadata": {},
     "output_type": "execute_result"
    }
   ],
   "source": [
    "# replace the None with your code\n",
    "winner_espeon_sylveon = battle(\"Espeon\",\"Sylveon\")\n",
    "winner_espeon_sylveon"
   ]
  },
  {
   "cell_type": "code",
   "execution_count": 323,
   "id": "4eb7e0ec",
   "metadata": {
    "deletable": false,
    "editable": false,
    "slideshow": {
     "slide_type": ""
    },
    "tags": []
   },
   "outputs": [
    {
     "name": "stdout",
     "output_type": "stream",
     "text": [
      "Make sure you saved the notebook before running this cell. Running check for q12...\n",
      "Great job! You passed all test cases for this question.\n"
     ]
    }
   ],
   "source": [
    "student_grader.check(\"q12\")"
   ]
  },
  {
   "cell_type": "markdown",
   "id": "e63d29d7",
   "metadata": {
    "deletable": false,
    "editable": false,
    "slideshow": {
     "slide_type": ""
    },
    "tags": []
   },
   "source": [
    "#### Project question 13"
   ]
  },
  {
   "cell_type": "markdown",
   "id": "dc79e491",
   "metadata": {
    "deletable": false,
    "editable": false,
    "slideshow": {
     "slide_type": ""
    },
    "tags": []
   },
   "source": [
    "Who would be the winner of a battle between `'Terrakion'` and `'Volcanion'`?"
   ]
  },
  {
   "cell_type": "markdown",
   "id": "924f3251",
   "metadata": {
    "deletable": false,
    "editable": false,
    "slideshow": {
     "slide_type": ""
    },
    "tags": []
   },
   "source": [
    "Points possible: 3.0"
   ]
  },
  {
   "cell_type": "code",
   "execution_count": 325,
   "id": "747424d2",
   "metadata": {
    "deletable": false,
    "editable": true,
    "scrolled": true,
    "slideshow": {
     "slide_type": ""
    },
    "tags": []
   },
   "outputs": [
    {
     "data": {
      "text/plain": [
       "'Terrakion'"
      ]
     },
     "execution_count": 325,
     "metadata": {},
     "output_type": "execute_result"
    }
   ],
   "source": [
    "# replace the None with your code\n",
    "winner_terrakion_volcanion = battle(\"Terrakion\",\"Volcanion\")\n",
    "winner_terrakion_volcanion"
   ]
  },
  {
   "cell_type": "code",
   "execution_count": 327,
   "id": "f5e3f2b1",
   "metadata": {
    "deletable": false,
    "editable": false,
    "slideshow": {
     "slide_type": ""
    },
    "tags": []
   },
   "outputs": [
    {
     "name": "stdout",
     "output_type": "stream",
     "text": [
      "Make sure you saved the notebook before running this cell. Running check for q13...\n",
      "Great job! You passed all test cases for this question.\n"
     ]
    }
   ],
   "source": [
    "student_grader.check(\"q13\")"
   ]
  },
  {
   "cell_type": "markdown",
   "id": "053148ea",
   "metadata": {
    "deletable": false,
    "editable": false,
    "slideshow": {
     "slide_type": ""
    },
    "tags": []
   },
   "source": [
    "#### Project question 14"
   ]
  },
  {
   "cell_type": "markdown",
   "id": "17f1d61c",
   "metadata": {
    "deletable": false,
    "editable": false,
    "slideshow": {
     "slide_type": ""
    },
    "tags": []
   },
   "source": [
    "Who would be the winner of a battle between `'Miraidon'` and `'Koraidon'`?"
   ]
  },
  {
   "cell_type": "markdown",
   "id": "e311790b",
   "metadata": {
    "deletable": false,
    "editable": false,
    "slideshow": {
     "slide_type": ""
    },
    "tags": []
   },
   "source": [
    "Points possible: 3.0"
   ]
  },
  {
   "cell_type": "code",
   "execution_count": 331,
   "id": "728f8222",
   "metadata": {
    "deletable": false,
    "editable": true,
    "slideshow": {
     "slide_type": ""
    },
    "tags": []
   },
   "outputs": [
    {
     "data": {
      "text/plain": [
       "'Draw'"
      ]
     },
     "execution_count": 331,
     "metadata": {},
     "output_type": "execute_result"
    }
   ],
   "source": [
    "# replace the None with your code\n",
    "winner_miraidon_koraidon = battle(\"Miraidon\",\"Koraidon\")\n",
    "winner_miraidon_koraidon"
   ]
  },
  {
   "cell_type": "code",
   "execution_count": 333,
   "id": "f59e3eee",
   "metadata": {
    "deletable": false,
    "editable": false,
    "slideshow": {
     "slide_type": ""
    },
    "tags": []
   },
   "outputs": [
    {
     "name": "stdout",
     "output_type": "stream",
     "text": [
      "Make sure you saved the notebook before running this cell. Running check for q14...\n",
      "Great job! You passed all test cases for this question.\n"
     ]
    }
   ],
   "source": [
    "student_grader.check(\"q14\")"
   ]
  },
  {
   "cell_type": "markdown",
   "id": "de7b06f2",
   "metadata": {
    "deletable": false,
    "editable": false,
    "slideshow": {
     "slide_type": ""
    },
    "tags": []
   },
   "source": [
    "#### Project function 6: `get_stat_total`"
   ]
  },
  {
   "cell_type": "markdown",
   "id": "6865fe65",
   "metadata": {
    "deletable": false,
    "editable": false,
    "slideshow": {
     "slide_type": ""
    },
    "tags": []
   },
   "source": [
    "We are now done with the battle function! We will begin working towards writing our final function of \n",
    "the notebook, `friendship_score`, which quantifies how well two pokemon will get along.\n",
    "But first, we're going to write two functions that will help us create that function. \n",
    "\n",
    "The `get_stat_total` function should return the **stat total** of a Pokemon. This is calculated as the sum of its Attack, Defense, HP, Special Attack, Special Defense, and Speed stats. "
   ]
  },
  {
   "cell_type": "markdown",
   "id": "9bd74949",
   "metadata": {
    "deletable": false,
    "editable": false,
    "slideshow": {
     "slide_type": ""
    },
    "tags": []
   },
   "source": [
    "Points possible: 4.0"
   ]
  },
  {
   "cell_type": "code",
   "execution_count": 337,
   "id": "3957bb58",
   "metadata": {
    "deletable": false,
    "editable": true,
    "slideshow": {
     "slide_type": ""
    },
    "tags": []
   },
   "outputs": [],
   "source": [
    "def get_stat_total(pkmn):\n",
    "    attack = project.get_attack(pkmn)\n",
    "    defense = project.get_defense(pkmn)\n",
    "    hp = project.get_hp(pkmn)\n",
    "    special_attack = project.get_special_attack(pkmn)\n",
    "    special_defense = project.get_special_defense(pkmn)\n",
    "    speed = project.get_speed(pkmn)\n",
    "\n",
    "    return attack + defense + hp + special_attack + special_defense + speed"
   ]
  },
  {
   "cell_type": "code",
   "execution_count": 339,
   "id": "09e380c7",
   "metadata": {
    "deletable": false,
    "editable": false,
    "slideshow": {
     "slide_type": ""
    },
    "tags": []
   },
   "outputs": [
    {
     "name": "stdout",
     "output_type": "stream",
     "text": [
      "Make sure you saved the notebook before running this cell. Running check for get_stat_total...\n",
      "Great job! You passed all test cases for this question.\n"
     ]
    }
   ],
   "source": [
    "student_grader.check(\"get_stat_total\")"
   ]
  },
  {
   "cell_type": "markdown",
   "id": "45d4e555",
   "metadata": {
    "deletable": false,
    "editable": false,
    "slideshow": {
     "slide_type": ""
    },
    "tags": []
   },
   "source": [
    "#### Project question 15"
   ]
  },
  {
   "cell_type": "markdown",
   "id": "8ec28404",
   "metadata": {
    "deletable": false,
    "editable": false,
    "slideshow": {
     "slide_type": ""
    },
    "tags": []
   },
   "source": [
    "What is stat total of `'Oddish'`?"
   ]
  },
  {
   "cell_type": "markdown",
   "id": "beb2c992",
   "metadata": {
    "deletable": false,
    "editable": false,
    "slideshow": {
     "slide_type": ""
    },
    "tags": []
   },
   "source": [
    "Points possible: 4.0"
   ]
  },
  {
   "cell_type": "code",
   "execution_count": 341,
   "id": "35d2c47d",
   "metadata": {
    "deletable": false,
    "editable": true,
    "scrolled": true,
    "slideshow": {
     "slide_type": ""
    },
    "tags": []
   },
   "outputs": [
    {
     "data": {
      "text/plain": [
       "320"
      ]
     },
     "execution_count": 341,
     "metadata": {},
     "output_type": "execute_result"
    }
   ],
   "source": [
    "# replace the None with your code\n",
    "oddish_stat_total = get_stat_total(\"Oddish\")\n",
    "oddish_stat_total"
   ]
  },
  {
   "cell_type": "code",
   "execution_count": 343,
   "id": "9824efdb",
   "metadata": {
    "deletable": false,
    "editable": false,
    "slideshow": {
     "slide_type": ""
    },
    "tags": []
   },
   "outputs": [
    {
     "name": "stdout",
     "output_type": "stream",
     "text": [
      "Make sure you saved the notebook before running this cell. Running check for q15...\n",
      "Great job! You passed all test cases for this question.\n"
     ]
    }
   ],
   "source": [
    "student_grader.check(\"q15\")"
   ]
  },
  {
   "cell_type": "markdown",
   "id": "903d0943",
   "metadata": {
    "deletable": false,
    "editable": false,
    "slideshow": {
     "slide_type": ""
    },
    "tags": []
   },
   "source": [
    "#### Project function 7: `type_score`"
   ]
  },
  {
   "cell_type": "markdown",
   "id": "a4ad2a87",
   "metadata": {
    "deletable": false,
    "editable": false,
    "slideshow": {
     "slide_type": ""
    },
    "tags": []
   },
   "source": [
    "One part of how well two Pokemon get along is how similar their typing is. The function `type_score`\n",
    "should return an integer value for the number of points awarded to the pair of Pokemon. Please read\n",
    "the instructions below to find out how to calculate the number of points the function should return.\n",
    "\n",
    "1. Pokemon gain a point if they have the **same `type1`**.\n",
    "    \n",
    "2. Pokemon gain a point if they have the **same `type2`**, provided that this common `type2` is **not** `DNE`. This means that if the two Pokemon both have `DNE` as their common `type2`, then they will **not** receive any extra points for it. \n",
    "    \n",
    "3. If the two Pokemon share **both** types in common (and their `type2` is **not** `DNE`), but their **order** is switched, they will gain a point. See the examples below for clarification.\n",
    "\n",
    "**Examples:**\n",
    "\n",
    "* If Pokemon 1 has types (Fire, DNE) and Pokemon 2 has types (Fire, DNE), their\n",
    "type score will be `1` because they share the same `type1`.\n",
    "\n",
    "* If Pokemon 1 has types (Bug, Fighting) and Pokemon 2 has types (Water, Fighting), their\n",
    "type score will be `1` because they share the same `type2`.\n",
    "\n",
    "* If Pokemon 1 has types (Ground, Water) and Pokemon 2 has types (Ground, Water), their\n",
    "type score will be `2` because they share the same `type1` and the same `type2`.\n",
    "\n",
    "* If Pokemon 1 has types (Water, Ground) and Pokemon 2 has types (Ground, Water), their\n",
    "type score will be `1` because they share the same types with their order switched."
   ]
  },
  {
   "cell_type": "markdown",
   "id": "0121cdfc",
   "metadata": {
    "deletable": false,
    "editable": false,
    "slideshow": {
     "slide_type": ""
    },
    "tags": []
   },
   "source": [
    "Points possible: 4.0"
   ]
  },
  {
   "cell_type": "code",
   "execution_count": 350,
   "id": "5213053f",
   "metadata": {
    "deletable": false,
    "editable": true,
    "slideshow": {
     "slide_type": ""
    },
    "tags": []
   },
   "outputs": [],
   "source": [
    "def type_score(pkmn1, pkmn2):\n",
    "    points = 0\n",
    "    \n",
    "    pkmn1_type1 = project.get_type1(pkmn1)\n",
    "    pkmn1_type2 = project.get_type2(pkmn1)\n",
    "    pkmn2_type1 = project.get_type1(pkmn2)\n",
    "    pkmn2_type2 = project.get_type2(pkmn2)\n",
    "    \n",
    "    if pkmn1_type1 == pkmn2_type1:\n",
    "        points += 1\n",
    "    \n",
    "    if pkmn1_type2 == pkmn2_type2 and pkmn1_type2 != 'DNE':\n",
    "        points += 1\n",
    "    \n",
    "    if (pkmn1_type1 == pkmn2_type2 and pkmn1_type2 == pkmn2_type1) and pkmn1_type2 != 'DNE' and pkmn2_type2 != 'DNE':\n",
    "        points += 1\n",
    "\n",
    "    return points"
   ]
  },
  {
   "cell_type": "code",
   "execution_count": 352,
   "id": "f9c2c9b4",
   "metadata": {
    "deletable": false,
    "editable": false,
    "slideshow": {
     "slide_type": ""
    },
    "tags": []
   },
   "outputs": [
    {
     "name": "stdout",
     "output_type": "stream",
     "text": [
      "Make sure you saved the notebook before running this cell. Running check for type_score...\n",
      "Great job! You passed all test cases for this question.\n"
     ]
    }
   ],
   "source": [
    "student_grader.check(\"type_score\")"
   ]
  },
  {
   "cell_type": "markdown",
   "id": "0c99ec77",
   "metadata": {
    "deletable": false,
    "editable": false,
    "slideshow": {
     "slide_type": ""
    },
    "tags": []
   },
   "source": [
    "#### Project question 16"
   ]
  },
  {
   "cell_type": "markdown",
   "id": "76d244f5",
   "metadata": {
    "deletable": false,
    "editable": false,
    "slideshow": {
     "slide_type": ""
    },
    "tags": []
   },
   "source": [
    "What is the type_score between `'Stufful'` and `'Dragapult'`?"
   ]
  },
  {
   "cell_type": "markdown",
   "id": "9d30e8d8",
   "metadata": {
    "deletable": false,
    "editable": false,
    "slideshow": {
     "slide_type": ""
    },
    "tags": []
   },
   "source": [
    "Points possible: 3.0"
   ]
  },
  {
   "cell_type": "code",
   "execution_count": 354,
   "id": "d7633d1d",
   "metadata": {
    "deletable": false,
    "editable": true,
    "scrolled": true,
    "slideshow": {
     "slide_type": ""
    },
    "tags": []
   },
   "outputs": [
    {
     "data": {
      "text/plain": [
       "0"
      ]
     },
     "execution_count": 354,
     "metadata": {},
     "output_type": "execute_result"
    }
   ],
   "source": [
    "# replace the None with your code\n",
    "type_score_stufful_dragapult = type_score(\"Stufful\",\"Dragapult\")\n",
    "type_score_stufful_dragapult"
   ]
  },
  {
   "cell_type": "code",
   "execution_count": 356,
   "id": "ff9f630a",
   "metadata": {
    "deletable": false,
    "editable": false,
    "slideshow": {
     "slide_type": ""
    },
    "tags": []
   },
   "outputs": [
    {
     "name": "stdout",
     "output_type": "stream",
     "text": [
      "Make sure you saved the notebook before running this cell. Running check for q16...\n",
      "Great job! You passed all test cases for this question.\n"
     ]
    }
   ],
   "source": [
    "student_grader.check(\"q16\")"
   ]
  },
  {
   "cell_type": "markdown",
   "id": "5ee3907b",
   "metadata": {
    "deletable": false,
    "editable": false,
    "slideshow": {
     "slide_type": ""
    },
    "tags": []
   },
   "source": [
    "#### Project question 17"
   ]
  },
  {
   "cell_type": "markdown",
   "id": "de4a2403",
   "metadata": {
    "deletable": false,
    "editable": false,
    "slideshow": {
     "slide_type": ""
    },
    "tags": []
   },
   "source": [
    "What is the type score between `'Landorus'` and `'Thundurus'`?"
   ]
  },
  {
   "cell_type": "markdown",
   "id": "28547d96",
   "metadata": {
    "deletable": false,
    "editable": false,
    "slideshow": {
     "slide_type": ""
    },
    "tags": []
   },
   "source": [
    "Points possible: 3.0"
   ]
  },
  {
   "cell_type": "code",
   "execution_count": 358,
   "id": "399e1eb2",
   "metadata": {
    "deletable": false,
    "editable": true,
    "slideshow": {
     "slide_type": ""
    },
    "tags": []
   },
   "outputs": [
    {
     "data": {
      "text/plain": [
       "1"
      ]
     },
     "execution_count": 358,
     "metadata": {},
     "output_type": "execute_result"
    }
   ],
   "source": [
    "# replace the None with your code\n",
    "type_score_landorus_thundurus = type_score(\"Landorus\",\"Thundurus\")\n",
    "type_score_landorus_thundurus"
   ]
  },
  {
   "cell_type": "code",
   "execution_count": 360,
   "id": "b47decd8",
   "metadata": {
    "deletable": false,
    "editable": false,
    "slideshow": {
     "slide_type": ""
    },
    "tags": []
   },
   "outputs": [
    {
     "name": "stdout",
     "output_type": "stream",
     "text": [
      "Make sure you saved the notebook before running this cell. Running check for q17...\n",
      "Great job! You passed all test cases for this question.\n"
     ]
    }
   ],
   "source": [
    "student_grader.check(\"q17\")"
   ]
  },
  {
   "cell_type": "markdown",
   "id": "0a730a2b",
   "metadata": {
    "deletable": false,
    "editable": false,
    "slideshow": {
     "slide_type": ""
    },
    "tags": []
   },
   "source": [
    "#### Function 8: `friendship_score`"
   ]
  },
  {
   "cell_type": "markdown",
   "id": "02d0c4bd",
   "metadata": {
    "deletable": false,
    "editable": false,
    "slideshow": {
     "slide_type": ""
    },
    "tags": []
   },
   "source": [
    "Pokemon aren't always violent. They are at most times quite friendly. However, some Pokemon are more friendly with some than they are with others. Trainers need to know which Pokemon get along well and which do not, to avoid unnecessary conflict between their Pokemon.\n",
    "\n",
    "Given two Pokemon `pkmn1` and `pkmn2`, we can compute the **friendship score** between them. A high friendship score means the two Pokemon will get along well, while a low friendship score means they need to be kept apart.\n",
    "\n",
    "We can check whether a pair of Pokemon has a high friendship score based on the below rules:\n",
    "\n",
    "1. Pokemon from the **same region** gain a friendship point. You must call the `same_region` function you wrote previously to determine this.\n",
    "\n",
    "2. Pokemon gain a friendship point if their **stat totals** are **less than** 20 points apart. For instance, a pair with stat totals of 380 and 399 will receive a point but a pair with stat totals of 610 and 590 would not. You will need to call the `get_stat_total` function to determine this. The builtin function `abs` will help simplify this logic, and you must use it to answer this question.\n",
    "\n",
    "3. Pokemon should gain friendship points equal to their type score. If two Pokemon have a type score of 2, then 2 should be added to their friendship score. You will need to call the `type_score` function to determine this.\n",
    "   \n",
    "Define the function `friendship_score` that takes in two Pokemon as its arguments and returns their friendship score."
   ]
  },
  {
   "cell_type": "markdown",
   "id": "8e2aabd1",
   "metadata": {
    "deletable": false,
    "editable": false,
    "slideshow": {
     "slide_type": ""
    },
    "tags": []
   },
   "source": [
    "Points possible: 5.0"
   ]
  },
  {
   "cell_type": "code",
   "execution_count": 366,
   "id": "67ef116e",
   "metadata": {
    "deletable": false,
    "editable": true,
    "slideshow": {
     "slide_type": ""
    },
    "tags": []
   },
   "outputs": [],
   "source": [
    "def friendship_score(pkmn1, pkmn2):\n",
    "    friendship_point = 0\n",
    "    \n",
    "    if same_region(pkmn1,pkmn2):\n",
    "        friendship_point += 1\n",
    "    \n",
    "    stat_total_pkmn1 = get_stat_total(pkmn1)\n",
    "    stat_total_pkmn2 = get_stat_total(pkmn2)\n",
    "    if abs(stat_total_pkmn1 - stat_total_pkmn2) < 20:\n",
    "        friendship_point += 1\n",
    "    \n",
    "    friendship_point += type_score(pkmn1, pkmn2)\n",
    "    \n",
    "    return friendship_point\n",
    "\n",
    "    pass # TODO: replace with your code"
   ]
  },
  {
   "cell_type": "code",
   "execution_count": 368,
   "id": "d51e4cc5",
   "metadata": {
    "deletable": false,
    "editable": false,
    "slideshow": {
     "slide_type": ""
    },
    "tags": []
   },
   "outputs": [
    {
     "name": "stdout",
     "output_type": "stream",
     "text": [
      "Make sure you saved the notebook before running this cell. Running check for friendship_score...\n",
      "Great job! You passed all test cases for this question.\n"
     ]
    }
   ],
   "source": [
    "student_grader.check(\"friendship_score\")"
   ]
  },
  {
   "cell_type": "markdown",
   "id": "01783c14",
   "metadata": {
    "deletable": false,
    "editable": false,
    "slideshow": {
     "slide_type": ""
    },
    "tags": []
   },
   "source": [
    "#### Project question 18"
   ]
  },
  {
   "cell_type": "markdown",
   "id": "9c3cfda0",
   "metadata": {
    "deletable": false,
    "editable": false,
    "slideshow": {
     "slide_type": ""
    },
    "tags": []
   },
   "source": [
    "What is the friendship score between  `'Pikachu'` and `'Raichu'`?"
   ]
  },
  {
   "cell_type": "markdown",
   "id": "c1690ef0",
   "metadata": {
    "deletable": false,
    "editable": false,
    "slideshow": {
     "slide_type": ""
    },
    "tags": []
   },
   "source": [
    "Points possible: 3.0"
   ]
  },
  {
   "cell_type": "code",
   "execution_count": 370,
   "id": "ec0ca87f",
   "metadata": {
    "deletable": false,
    "editable": true,
    "slideshow": {
     "slide_type": ""
    },
    "tags": []
   },
   "outputs": [
    {
     "data": {
      "text/plain": [
       "2"
      ]
     },
     "execution_count": 370,
     "metadata": {},
     "output_type": "execute_result"
    }
   ],
   "source": [
    "# replace the None with your code\n",
    "friendship_pikachu_raichu = friendship_score(\"Pikachu\",\"Raichu\")\n",
    "friendship_pikachu_raichu"
   ]
  },
  {
   "cell_type": "code",
   "execution_count": 372,
   "id": "32588e82",
   "metadata": {
    "deletable": false,
    "editable": false,
    "slideshow": {
     "slide_type": ""
    },
    "tags": []
   },
   "outputs": [
    {
     "name": "stdout",
     "output_type": "stream",
     "text": [
      "Make sure you saved the notebook before running this cell. Running check for q18...\n",
      "Great job! You passed all test cases for this question.\n"
     ]
    }
   ],
   "source": [
    "student_grader.check(\"q18\")"
   ]
  },
  {
   "cell_type": "markdown",
   "id": "ab63660c",
   "metadata": {
    "deletable": false,
    "editable": false,
    "slideshow": {
     "slide_type": ""
    },
    "tags": []
   },
   "source": [
    "#### Project question 19"
   ]
  },
  {
   "cell_type": "markdown",
   "id": "fb860fec",
   "metadata": {
    "deletable": false,
    "editable": false,
    "slideshow": {
     "slide_type": ""
    },
    "tags": []
   },
   "source": [
    "What is the friendship score between `'Ceruledge'` and `'Skeledirge'`?"
   ]
  },
  {
   "cell_type": "markdown",
   "id": "47f578d9",
   "metadata": {
    "deletable": false,
    "editable": false,
    "slideshow": {
     "slide_type": ""
    },
    "tags": []
   },
   "source": [
    "Points possible: 3.0"
   ]
  },
  {
   "cell_type": "code",
   "execution_count": 374,
   "id": "439900c7",
   "metadata": {
    "deletable": false,
    "editable": true,
    "slideshow": {
     "slide_type": ""
    },
    "tags": []
   },
   "outputs": [
    {
     "data": {
      "text/plain": [
       "4"
      ]
     },
     "execution_count": 374,
     "metadata": {},
     "output_type": "execute_result"
    }
   ],
   "source": [
    "# replace the None with your code\n",
    "friendship_ceruledge_skeledirge = friendship_score(\"Ceruledge\",\"Skeledirge\")\n",
    "friendship_ceruledge_skeledirge"
   ]
  },
  {
   "cell_type": "code",
   "execution_count": 376,
   "id": "1fc09556",
   "metadata": {
    "deletable": false,
    "editable": false,
    "slideshow": {
     "slide_type": ""
    },
    "tags": []
   },
   "outputs": [
    {
     "name": "stdout",
     "output_type": "stream",
     "text": [
      "Make sure you saved the notebook before running this cell. Running check for q19...\n",
      "Great job! You passed all test cases for this question.\n"
     ]
    }
   ],
   "source": [
    "student_grader.check(\"q19\")"
   ]
  },
  {
   "cell_type": "markdown",
   "id": "5055b3e9",
   "metadata": {
    "deletable": false,
    "editable": false,
    "slideshow": {
     "slide_type": ""
    },
    "tags": []
   },
   "source": [
    "#### Project question 20"
   ]
  },
  {
   "cell_type": "markdown",
   "id": "885464cc",
   "metadata": {
    "deletable": false,
    "editable": false,
    "slideshow": {
     "slide_type": ""
    },
    "tags": []
   },
   "source": [
    "What is the friendship score between `'Flygon'` and `'Garchomp'`?"
   ]
  },
  {
   "cell_type": "markdown",
   "id": "b52d1310",
   "metadata": {
    "deletable": false,
    "editable": false,
    "slideshow": {
     "slide_type": ""
    },
    "tags": []
   },
   "source": [
    "Points possible: 3.0"
   ]
  },
  {
   "cell_type": "code",
   "execution_count": 378,
   "id": "32bd4552",
   "metadata": {
    "deletable": false,
    "editable": true,
    "slideshow": {
     "slide_type": ""
    },
    "tags": []
   },
   "outputs": [
    {
     "data": {
      "text/plain": [
       "1"
      ]
     },
     "execution_count": 378,
     "metadata": {},
     "output_type": "execute_result"
    }
   ],
   "source": [
    "# replace the None with your code\n",
    "friendship_flygon_garchomp = friendship_score(\"Flygon\",\"Garchomp\")\n",
    "friendship_flygon_garchomp"
   ]
  },
  {
   "cell_type": "code",
   "execution_count": 380,
   "id": "e58233a2",
   "metadata": {
    "deletable": false,
    "editable": false,
    "slideshow": {
     "slide_type": ""
    },
    "tags": []
   },
   "outputs": [
    {
     "name": "stdout",
     "output_type": "stream",
     "text": [
      "Make sure you saved the notebook before running this cell. Running check for q20...\n",
      "Great job! You passed all test cases for this question.\n"
     ]
    }
   ],
   "source": [
    "student_grader.check(\"q20\")"
   ]
  },
  {
   "cell_type": "markdown",
   "id": "3a9f24f7",
   "metadata": {
    "deletable": false,
    "editable": false,
    "slideshow": {
     "slide_type": ""
    },
    "tags": []
   },
   "source": [
    "## Submission"
   ]
  },
  {
   "cell_type": "markdown",
   "id": "4d59be38-a702-4009-b8e8-5d8b20af1969",
   "metadata": {
    "deletable": false,
    "editable": false,
    "slideshow": {
     "slide_type": ""
    },
    "tags": []
   },
   "source": [
    "Make sure you have run all cells in your notebook in order before submitting on Gradescope. Your notebook should not contain any uncaught Exceptions, otherwise the Gradescope autograder will not give you any points."
   ]
  }
 ],
 "metadata": {
  "kernelspec": {
   "display_name": "Python 3 (ipykernel)",
   "language": "python",
   "name": "python3"
  },
  "language_info": {
   "codemirror_mode": {
    "name": "ipython",
    "version": 3
   },
   "file_extension": ".py",
   "mimetype": "text/x-python",
   "name": "python",
   "nbconvert_exporter": "python",
   "pygments_lexer": "ipython3",
   "version": "3.10.12"
  }
 },
 "nbformat": 4,
 "nbformat_minor": 5
}
